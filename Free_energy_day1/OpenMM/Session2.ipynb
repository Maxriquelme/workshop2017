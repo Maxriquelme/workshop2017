{
 "cells": [
  {
   "cell_type": "markdown",
   "metadata": {
    "slideshow": {
     "slide_type": "skip"
    }
   },
   "source": [
    "# Symposium on Molecular Interactions Tutorials\n",
    "## What is this?? (Session 2).\n",
    "This is a Jupyter notebook. It runs Python, but also allows it to be interspersed with Markdown-formatted text, for a nice mixture of documentation and code.\n",
    "\n",
    "The particular material below is Session 2 of the tutorials on free energy calculations and OpenMM, from Day 1 of the Symposium on Molecular Interactions (2017).\n",
    "\n",
    "This content is available on the [symposium github repository](https://github.com/QCMM/workshop2017) at [https://github.com/QCMM/workshop2017](https://github.com/QCMM/workshop2017).\n",
    "\n",
    "This material is a set of slides intended for presentation with RISE (for presentations from Jupyter notebooks). While it may be useful without RISE, it will also likely appear somewhat less verbose than it would if it were intended for use in written form.\n",
    "\n",
    "## Authors/sources/acknowledgments\n",
    "Author: David L. Mobley (UCI)\n",
    "\n",
    "### Sources\n",
    "- Much of content adapted from materials I have developed or am developing for my [Drug Discovery Computing Techniques class](https://github.com/mobleylab/drug-computing).\n",
    "\n",
    "### Acknowledgments\n",
    "- John Chodera and Nathan Lim for help with OpenMM\n",
    "- OpenEye for help with OpenEye software, especially James Haigh"
   ]
  },
  {
   "cell_type": "markdown",
   "metadata": {
    "slideshow": {
     "slide_type": "slide"
    }
   },
   "source": [
    "# Outline of this afternoon's second session\n",
    "1. Some brief OpenMM basics (what's going on under the hood in Yank)\n",
    "2. A simple example of a density calculation which stops when converged\n",
    "3. Analyzing density results in this notebook\n",
    "4. SMIRNOFF force fields, modifying the density calculation to use them\n",
    "\n",
    "**To follow along**/run code: Open this Jupyter notebook in `solvation_free_energies/Session2.ipynb` via `jupyter notebook Session2.ipynb`. (See [prerequisites](../prerequisites.md) if you aren't using preinstalled software.) This is cumulative, building on `Session1.ipynb`.\n",
    "\n"
   ]
  },
  {
   "cell_type": "markdown",
   "metadata": {
    "slideshow": {
     "slide_type": "slide"
    }
   },
   "source": [
    "# Generate some input files we'll use\n",
    "\n",
    "- We want some inputs to work with as we see how OpenMM works\n",
    "- And for our sample density calculation\n",
    "- [`SolvationToolkit`](https://github.com/mobleylab/SolvationToolkit) provides simple wrappers for building arbitrary mixtures\n",
    "  - OpenEye toolkits\n",
    "  - [`packmol`](https://github.com/mcubeg/packmol)\n",
    "  - GAFF small molecule force field (and TIP3P or TIP4P, etc. for water)\n",
    "\n",
    "Let's build a system to use later"
   ]
  },
  {
   "cell_type": "code",
   "execution_count": 39,
   "metadata": {
    "slideshow": {
     "slide_type": "subslide"
    }
   },
   "outputs": [
    {
     "name": "stdout",
     "output_type": "stream",
     "text": [
      "\n",
      "WARNING: component name not provided; label will be used as component name\n",
      "\n",
      "\n",
      "WARNING: component name not provided; label will be used as component name\n",
      "\n",
      "\n",
      "WARNING: component name not provided; label will be used as component name\n",
      "\n"
     ]
    },
    {
     "name": "stderr",
     "output_type": "stream",
     "text": [
      "/Users/dmobley/anaconda3/envs/workshop_test/lib/python3.6/site-packages/pandas/io/parsers.py:2218: FutureWarning: split() requires a non-empty pattern match.\n",
      "  yield pat.split(line.strip())\n",
      "/Users/dmobley/anaconda3/envs/workshop_test/lib/python3.6/site-packages/pandas/io/parsers.py:2220: FutureWarning: split() requires a non-empty pattern match.\n",
      "  yield pat.split(line.strip())\n"
     ]
    },
    {
     "name": "stdout",
     "output_type": "stream",
     "text": [
      "\n",
      "# Mixture \n",
      "\n",
      "tolerance 2.000000\n",
      "filetype pdb\n",
      "output /var/folders/41/7d3rylg503n8nt_tn0hz6v8c0000gn/T/tmplhm4xyx2/tmp9yz9jwdt.pdb\n",
      "add_amber_ter\n",
      "\n",
      "\n",
      "structure /var/folders/41/7d3rylg503n8nt_tn0hz6v8c0000gn/T/tmplhm4xyx2/tmpn4thi8dz.pdb\n",
      "  number 1 \n",
      "  inside box 0. 0. 0. 25.521266 25.521266 25.521266\n",
      "end structure\n",
      "\n",
      "structure /var/folders/41/7d3rylg503n8nt_tn0hz6v8c0000gn/T/tmplhm4xyx2/tmp7j1f1b2x.pdb\n",
      "  number 10 \n",
      "  inside box 0. 0. 0. 25.521266 25.521266 25.521266\n",
      "end structure\n",
      "\n",
      "structure /var/folders/41/7d3rylg503n8nt_tn0hz6v8c0000gn/T/tmplhm4xyx2/tmp4ntd_h95.pdb\n",
      "  number 100 \n",
      "  inside box 0. 0. 0. 25.521266 25.521266 25.521266\n",
      "end structure\n",
      "\n",
      "\n",
      "source leaprc.gaff\n",
      "source oldff/leaprc.ff99SB\n",
      "ZSF = loadmol2 in0.mol2\n",
      "ZFO = loadmol2 in1.mol2\n",
      "ZQE = loadmol2 in2.mol2\n",
      "box = loadPdb tbox.pdb\n",
      "loadamberparams in0.frcmod\n",
      "loadamberparams in1.frcmod\n",
      "loadamberparams in2.frcmod\n",
      "setbox box centers\n",
      "saveAmberParm box out.prmtop out.inpcrd\n",
      "quit\n",
      "\n"
     ]
    }
   ],
   "source": [
    "from solvationtoolkit.solvated_mixtures import *\n",
    "mixture = MixtureSystem('mixtures')\n",
    "mixture.addComponent(label='phenol', smiles='c1ccc(cc1)O', number=1)\n",
    "mixture.addComponent(label='toluene', smiles='Cc1ccccc1', number=10)\n",
    "mixture.addComponent(label='cyclohexane', smiles='C1CCCCC1', number=100)\n",
    "#Generate output files for AMBER\n",
    "mixture.build(amber = True)"
   ]
  },
  {
   "cell_type": "markdown",
   "metadata": {
    "slideshow": {
     "slide_type": "slide"
    }
   },
   "source": [
    "# OpenMM is more of a simulation toolkit than a simulation package\n",
    "- Easy-to-use Python API\n",
    "- Very fast calculations on GPUs (but slow on CPUs)\n",
    "- Really easy to implement new techniques, do new science\n",
    "- Key ingredients in a calculation:\n",
    "    - `Topology`\n",
    "    - `System`\n",
    "    - `Simulation` (takes `System`, `Topology`, `Integrator`; contains positions)"
   ]
  },
  {
   "cell_type": "markdown",
   "metadata": {
    "slideshow": {
     "slide_type": "subslide"
    }
   },
   "source": [
    "## `Topology`: Chemical composition of your system\n",
    "\n",
    "- Atoms, bonds, etc.\n",
    "- Can be loaded from some common file formats such as PDB, mol2\n",
    "- Can be created from OpenEye molecule via [`oeommtools`](https://github.com/oess/oeommtools), such as [`oeommtools.utils.oemol_to_openmmTop`](https://github.com/oess/oeommtools/blob/master/oeommtools/utils.py#L17)\n",
    "    - Side note: An OE \"molecule\" can contain more than one molecule, so can contain protein+ligand+solvent for example\n",
    "- Tangent: Try to retain bond order info if you have it (e.g. from a mol2)"
   ]
  },
  {
   "cell_type": "code",
   "execution_count": 4,
   "metadata": {
    "slideshow": {
     "slide_type": "fragment"
    }
   },
   "outputs": [],
   "source": [
    "# Example Topology generation from a couple mechanisms:\n",
    "\n",
    "# Load a PDB\n",
    "from simtk.openmm.app import PDBFile\n",
    "pdb = PDBFile('sample_files/T4-protein.pdb')\n",
    "t4_topology = pdb.topology"
   ]
  },
  {
   "cell_type": "code",
   "execution_count": 35,
   "metadata": {
    "slideshow": {
     "slide_type": "subslide"
    }
   },
   "outputs": [
    {
     "name": "stderr",
     "output_type": "stream",
     "text": [
      "/Users/dmobley/anaconda3/envs/workshop_test/lib/python3.6/site-packages/pandas/io/parsers.py:2218: FutureWarning: split() requires a non-empty pattern match.\n",
      "  yield pat.split(line.strip())\n",
      "/Users/dmobley/anaconda3/envs/workshop_test/lib/python3.6/site-packages/pandas/io/parsers.py:2220: FutureWarning: split() requires a non-empty pattern match.\n",
      "  yield pat.split(line.strip())\n"
     ]
    },
    {
     "data": {
      "application/vnd.jupyter.widget-view+json": {
       "model_id": "efee0a58e94049e38f9ccda0e1aadb6f",
       "version_major": 2,
       "version_minor": 0
      },
      "text/html": [
       "<p>Failed to display Jupyter Widget of type <code>NGLWidget</code>.</p>\n",
       "<p>\n",
       "  If you're reading this message in the Jupyter Notebook or JupyterLab Notebook, it may mean\n",
       "  that the widgets JavaScript is still loading. If this message persists, it\n",
       "  likely means that the widgets JavaScript library is either not installed or\n",
       "  not enabled. See the <a href=\"https://ipywidgets.readthedocs.io/en/stable/user_install.html\">Jupyter\n",
       "  Widgets Documentation</a> for setup instructions.\n",
       "</p>\n",
       "<p>\n",
       "  If you're reading this message in another frontend (for example, a static\n",
       "  rendering on GitHub or <a href=\"https://nbviewer.jupyter.org/\">NBViewer</a>),\n",
       "  it may mean that your frontend doesn't currently support widgets.\n",
       "</p>\n"
      ],
      "text/plain": [
       "NGLWidget()"
      ]
     },
     "metadata": {},
     "output_type": "display_data"
    }
   ],
   "source": [
    "# Load a mol2: MDTraj supports a variety of file formats including mol2\n",
    "import mdtraj\n",
    "traj = mdtraj.load('sample_files/mobley_20524.mol2')\n",
    "# MDTraj objects contain a Topology, but an MDTraj topology; they support conversion to OpenMM\n",
    "traj.topology.to_openmm()\n",
    "\n",
    "# MDTraj can also handle PDB, plus trajectory formats which contain topology information\n",
    "protein_traj = mdtraj.load('sample_files/T4-protein.pdb')\n",
    "t4_topology = protein_traj.topology.to_openmm()\n",
    "# And we can visualize with nglview (or drop out to VMD)\n",
    "import nglview\n",
    "view = nglview.show_mdtraj(protein_traj)\n",
    "view"
   ]
  },
  {
   "cell_type": "code",
   "execution_count": 22,
   "metadata": {
    "slideshow": {
     "slide_type": "subslide"
    }
   },
   "outputs": [
    {
     "name": "stdout",
     "output_type": "stream",
     "text": [
      "Topology has 13 atoms\n"
     ]
    }
   ],
   "source": [
    "# Load AMBER gas phase topology\n",
    "from simtk.openmm.app import *\n",
    "prmtop = AmberPrmtopFile('sample_files/mobley_20524.prmtop')\n",
    "print(\"Topology has %s atoms\" % prmtop.topology.getNumAtoms())\n",
    "\n",
    "# Gromacs files can be loaded by GromacsTopFile and GromacsGroFile but you need topology/coordinate files\n",
    "# which don't have include statements, or a GROMACS installation"
   ]
  },
  {
   "cell_type": "code",
   "execution_count": 36,
   "metadata": {
    "slideshow": {
     "slide_type": "fragment"
    }
   },
   "outputs": [
    {
     "name": "stdout",
     "output_type": "stream",
     "text": [
      "13\n"
     ]
    }
   ],
   "source": [
    "# Load an OEMol and convert (note advantage over MDTraj for bond order, etc.)\n",
    "\n",
    "from openeye.oechem import *\n",
    "from oeommtools.utils import *\n",
    "mol = OEMol()\n",
    "istream = oemolistream( 'sample_files/mobley_20524.mol2')\n",
    "OEReadMolecule(istream, mol)\n",
    "istream.close()\n",
    "\n",
    "# Convert OEMol to Topology using oeommtools -- so you can get a topology from almost any format OE supports\n",
    "topology, positions = oemol_to_openmmTop(mol)\n",
    "print(topology.getNumAtoms())"
   ]
  },
  {
   "cell_type": "markdown",
   "metadata": {
    "slideshow": {
     "slide_type": "subslide"
    }
   },
   "source": [
    "## `System`: Your parameterized system\n",
    "- Often generated by `createSystem`, but requires OpenMM know how to assign parameters\n",
    "  - Easy for standard biomolecules (proteins, nucleic acids), waters ions\n",
    "  - OpenMM FFXML files used; available for many common FFs\n",
    "  - More complex for general small molecules\n",
    "- Can also be loaded from common file formats such as GROMACS, AMBER\n",
    "  - useful if you set up for AMBER or GROMACS\n",
    "- We have new open forcefield effort that provides new force fields with an `openforcefield.createSystem` operator; generates OpenMM Systems."
   ]
  },
  {
   "cell_type": "code",
   "execution_count": 37,
   "metadata": {
    "slideshow": {
     "slide_type": "subslide"
    }
   },
   "outputs": [],
   "source": [
    "# Example system creation\n",
    "#From OpenMM Docs: http://docs.openmm.org/latest/userguide/application.html#running-simulations\n",
    "from simtk.openmm.app import *\n",
    "from simtk.openmm import *\n",
    "from simtk.unit import *\n",
    "from sys import stdout\n",
    "\n",
    "# Example System creation using OpenMM XML force field libraries -- good for biomolecules, ions, water\n",
    "pdb = PDBFile('sample_files/input.pdb')\n",
    "forcefield = ForceField('amber99sb.xml', 'tip3p.xml')\n",
    "system = forcefield.createSystem(pdb.topology, nonbondedMethod=PME,\n",
    "        nonbondedCutoff=1*nanometer, constraints=HBonds)\n"
   ]
  },
  {
   "cell_type": "code",
   "execution_count": 146,
   "metadata": {
    "slideshow": {
     "slide_type": "subslide"
    }
   },
   "outputs": [
    {
     "name": "stdout",
     "output_type": "stream",
     "text": [
      "Generated /Users/dmobley/github/workshop2017/Free_energy_day1/OpenMM/phenol.prmtop and /Users/dmobley/github/workshop2017/Free_energy_day1/OpenMM/phenol.inpcrd\n"
     ]
    }
   ],
   "source": [
    "# Or you could set up your own molecule for simulation with e.g. GAFF using AmberTools\n",
    "\n",
    "from openmoltools.amber import *\n",
    "# Generate GAFF-typed mol2 file and AMBER frcmod file using AmberTools\n",
    "gaff_mol2_file, frcmod_file = run_antechamber('phenol', 'sample_files/mobley_20524.mol2')\n",
    "# Generate AMBER files\n",
    "prmtop_name, inpcrd_name = run_tleap( 'phenol', gaff_mol2_file, frcmod_file)\n",
    "print(\"Generated %s and %s\" % (prmtop_name, inpcrd_name))\n",
    "\n",
    "# Create System -- in this case, single molecule in gas phase\n",
    "prmtop = AmberPrmtopFile( prmtop_name)\n",
    "inpcrd = AmberInpcrdFile( inpcrd_name)\n",
    "system = prmtop.createSystem(nonbondedMethod = NoCutoff, nonbondedCutoff = NoCutoff, constraints = HBonds)"
   ]
  },
  {
   "cell_type": "code",
   "execution_count": 147,
   "metadata": {
    "slideshow": {
     "slide_type": "subslide"
    }
   },
   "outputs": [
    {
     "data": {
      "application/vnd.jupyter.widget-view+json": {
       "model_id": "4ddbe6304ae645cea42bbb2a1f465031",
       "version_major": 2,
       "version_minor": 0
      },
      "text/html": [
       "<p>Failed to display Jupyter Widget of type <code>NGLWidget</code>.</p>\n",
       "<p>\n",
       "  If you're reading this message in the Jupyter Notebook or JupyterLab Notebook, it may mean\n",
       "  that the widgets JavaScript is still loading. If this message persists, it\n",
       "  likely means that the widgets JavaScript library is either not installed or\n",
       "  not enabled. See the <a href=\"https://ipywidgets.readthedocs.io/en/stable/user_install.html\">Jupyter\n",
       "  Widgets Documentation</a> for setup instructions.\n",
       "</p>\n",
       "<p>\n",
       "  If you're reading this message in another frontend (for example, a static\n",
       "  rendering on GitHub or <a href=\"https://nbviewer.jupyter.org/\">NBViewer</a>),\n",
       "  it may mean that your frontend doesn't currently support widgets.\n",
       "</p>\n"
      ],
      "text/plain": [
       "NGLWidget()"
      ]
     },
     "metadata": {},
     "output_type": "display_data"
    }
   ],
   "source": [
    "# Load the mixture we generated above in Section 3\n",
    "file_prefix = 'mixtures/amber/phenol_toluene_cyclohexane_1_10_100'\n",
    "prmtop = AmberPrmtopFile( file_prefix+'.prmtop')\n",
    "inpcrd = AmberInpcrdFile( file_prefix+'.inpcrd')\n",
    "# Create system: Here, solution phase with periodic boundary conditions and constraints\n",
    "system = prmtop.createSystem(nonbondedMethod = PME, nonbondedCutoff = 1*nanometer, constraints = HBonds)\n",
    "\n",
    "#You can visualize the above with VMD, or we can do:\n",
    "traj = mdtraj.load( file_prefix + '.inpcrd', top = file_prefix + '.prmtop')\n",
    "view = nglview.show_mdtraj(traj)\n",
    "view"
   ]
  },
  {
   "cell_type": "markdown",
   "metadata": {
    "slideshow": {
     "slide_type": "subslide"
    }
   },
   "source": [
    "## `Simulation`: The system, topology, and positions you're simulating, under what conditions\n",
    "- Could be for energy minimization, or different types of dynamics\n",
    "- Has an integrator attached (even if just minimizing), including temperature\n",
    "- `context` -- including positions, periodic box if applicable, etc.\n",
    "- If dynamics, has:\n",
    "  - timestep\n",
    "  - velocities\n",
    "- potentially also has reporters which store properties like energies, trajectory snapshots, etc.\n"
   ]
  },
  {
   "cell_type": "markdown",
   "metadata": {
    "slideshow": {
     "slide_type": "subslide"
    }
   },
   "source": [
    "### Let's take that last `System` we set up and energy minimize it\n",
    "(The mixture of toluene, phenol, and cyclohexane we generated originally)"
   ]
  },
  {
   "cell_type": "code",
   "execution_count": 148,
   "metadata": {
    "slideshow": {
     "slide_type": "fragment"
    }
   },
   "outputs": [],
   "source": [
    "# Prepare the integrator\n",
    "integrator = LangevinIntegrator(300*kelvin, 1/picosecond, 0.002*picoseconds)"
   ]
  },
  {
   "cell_type": "code",
   "execution_count": 149,
   "metadata": {
    "slideshow": {
     "slide_type": "fragment"
    }
   },
   "outputs": [],
   "source": [
    "# Prep the simulation\n",
    "simulation = Simulation(prmtop.topology, system, integrator)\n",
    "simulation.context.setPositions(inpcrd.positions)"
   ]
  },
  {
   "cell_type": "code",
   "execution_count": 150,
   "metadata": {
    "slideshow": {
     "slide_type": "fragment"
    }
   },
   "outputs": [
    {
     "name": "stdout",
     "output_type": "stream",
     "text": [
      "Energy before minimization (kcal/mol): 1.4e+11\n",
      "Energy after minimization (kcal/mol): -5.3e+02\n"
     ]
    }
   ],
   "source": [
    "# Get and print initial energy\n",
    "state = simulation.context.getState(getEnergy = True)\n",
    "energy = state.getPotentialEnergy() / kilocalories_per_mole\n",
    "print(\"Energy before minimization (kcal/mol): %.2g\" % energy)\n",
    "\n",
    "# Energy minimize\n",
    "simulation.minimizeEnergy()\n",
    "\n",
    "# Get and print final energy\n",
    "state = simulation.context.getState(getEnergy=True, getPositions=True)\n",
    "energy = state.getPotentialEnergy() / kilocalories_per_mole\n",
    "print(\"Energy after minimization (kcal/mol): %.2g\" % energy)"
   ]
  },
  {
   "cell_type": "code",
   "execution_count": 151,
   "metadata": {
    "slideshow": {
     "slide_type": "subslide"
    }
   },
   "outputs": [
    {
     "name": "stdout",
     "output_type": "stream",
     "text": [
      "#\"Step\",\"Potential Energy (kJ/mole)\",\"Temperature (K)\"\n",
      "100,-1215.8894199668725,58.10464850643278\n",
      "200,-366.7503188383687,102.00443793670226\n",
      "300,425.4568995775537,135.43983542119014\n",
      "400,860.8855565817614,171.76118053266964\n",
      "500,1382.2184374274318,188.76826657021698\n",
      "600,1744.558091576286,216.48597131874777\n",
      "700,2111.807767295869,225.20441859166132\n",
      "800,2305.5666515286575,244.39524829939592\n",
      "900,2441.328118935232,258.43190464709005\n",
      "1000,2567.078031609929,266.5830187799809\n"
     ]
    }
   ],
   "source": [
    "# While we're at it, why don't we just run a few steps of dynamics\n",
    "simulation.reporters.append(PDBReporter('sample_files/mixture_output.pdb', 100))\n",
    "simulation.reporters.append(StateDataReporter(stdout, 100, step=True,\n",
    "        potentialEnergy=True, temperature=True))\n",
    "simulation.step(1000) # Runs 1000 steps of dynamics\n",
    "state = simulation.context.getState(getEnergy=True, getPositions=True)"
   ]
  },
  {
   "cell_type": "markdown",
   "metadata": {
    "slideshow": {
     "slide_type": "slide"
    }
   },
   "source": [
    "# A simple example of a density calculation which stops when converged\n",
    "\n",
    "- We'll do a very simple density estimation\n",
    "- This is not a recommended protocol since we're just jumping straight in to \"production\"\n",
    "- But it illustrates how you can do this type of thing easily with OpenMM\n",
    "- For production data, you'd precede by equilibration (usually NVT, then NPT, then production)"
   ]
  },
  {
   "cell_type": "markdown",
   "metadata": {
    "slideshow": {
     "slide_type": "slide"
    }
   },
   "source": [
    "## The most bare-bones version"
   ]
  },
  {
   "cell_type": "code",
   "execution_count": 152,
   "metadata": {
    "slideshow": {
     "slide_type": "subslide"
    }
   },
   "outputs": [],
   "source": [
    "# We'll pick up that same system again, loading it up again so we can add a barostat before setting up the simulation\n",
    "import simtk.openmm as mm\n",
    "file_prefix = 'mixtures/amber/phenol_toluene_cyclohexane_1_10_100'\n",
    "prmtop = AmberPrmtopFile( file_prefix+'.prmtop')\n",
    "inpcrd = AmberInpcrdFile( file_prefix+'.inpcrd')\n",
    "system = prmtop.createSystem(nonbondedMethod = PME, nonbondedCutoff = 1*nanometer, constraints = HBonds)\n",
    "\n",
    "# Now add a barostat\n",
    "system.addForce(mm.MonteCarloBarostat(1*atmospheres, 300*kelvin, 25))\n",
    "\n",
    "# Set up integrator and simulation\n",
    "integrator = LangevinIntegrator(300*kelvin, 1/picosecond, 0.002*picoseconds)\n",
    "simulation = Simulation(prmtop.topology, system, integrator)\n",
    "\n",
    "# Let's pull the positions from the end of the brief \"equilibration\" we ran up above.\n",
    "simulation.context.setPositions(state.getPositions())\n",
    "\n",
    "# Set up a reporter to assess progress; will report every 100 steps (somewhat short)\n",
    "prod_data_filename = os.path.join('sample_files', os.path.basename(file_prefix)+'.csv')\n",
    "simulation.reporters.append(app.StateDataReporter( prod_data_filename, 100, step=True, potentialEnergy=True,\n",
    "                                                  temperature=True, density=True))\n"
   ]
  },
  {
   "cell_type": "code",
   "execution_count": 153,
   "metadata": {
    "slideshow": {
     "slide_type": "subslide"
    }
   },
   "outputs": [],
   "source": [
    "# Set up for run; for a somewhat reasonable convergence threshold you probably want run_steps >= 2500\n",
    "# and a density tolerance of 1e-3 or smaller; higher thresholds will likely result in early termination\n",
    "# due to slow fluctuations in density.\n",
    "# But that may take some time to run, so feel free to try higher also.\n",
    "run_steps = 2500\n",
    "converged = False\n",
    "density_tolerance = 0.001\n",
    "import pandas as pd\n",
    "from pymbar import timeseries as ts"
   ]
  },
  {
   "cell_type": "code",
   "execution_count": 154,
   "metadata": {
    "slideshow": {
     "slide_type": "subslide"
    }
   },
   "outputs": [
    {
     "name": "stdout",
     "output_type": "stream",
     "text": [
      "Current density mean std error = 0.001193 g/mL\n",
      "Current density mean std error = 0.001434 g/mL\n",
      "Current density mean std error = 0.001333 g/mL\n",
      "Current density mean std error = 0.002480 g/mL\n",
      "Current density mean std error = 0.001770 g/mL\n",
      "Current density mean std error = 0.002529 g/mL\n",
      "Current density mean std error = 0.002182 g/mL\n",
      "Current density mean std error = 0.002536 g/mL\n",
      "Current density mean std error = 0.003708 g/mL\n",
      "Current density mean std error = 0.003392 g/mL\n",
      "Current density mean std error = 0.001015 g/mL\n",
      "Current density mean std error = 0.002806 g/mL\n",
      "Current density mean std error = 0.002009 g/mL\n",
      "Current density mean std error = 0.002594 g/mL\n",
      "Current density mean std error = 0.002477 g/mL\n",
      "Current density mean std error = 0.002037 g/mL\n",
      "Current density mean std error = 0.003465 g/mL\n",
      "Current density mean std error = 0.002491 g/mL\n",
      "Current density mean std error = 0.002409 g/mL\n",
      "Current density mean std error = 0.002008 g/mL\n",
      "Current density mean std error = 0.002182 g/mL\n",
      "Current density mean std error = 0.002223 g/mL\n",
      "Current density mean std error = 0.002609 g/mL\n",
      "Current density mean std error = 0.002635 g/mL\n",
      "Current density mean std error = 0.002426 g/mL\n",
      "Current density mean std error = 0.002334 g/mL\n",
      "Current density mean std error = 0.002246 g/mL\n",
      "Current density mean std error = 0.002159 g/mL\n",
      "Current density mean std error = 0.002134 g/mL\n",
      "Current density mean std error = 0.002373 g/mL\n",
      "Current density mean std error = 0.002153 g/mL\n",
      "Current density mean std error = 0.002256 g/mL\n",
      "Current density mean std error = 0.002205 g/mL\n",
      "Current density mean std error = 0.002162 g/mL\n",
      "Current density mean std error = 0.002100 g/mL\n",
      "Current density mean std error = 0.002050 g/mL\n",
      "Current density mean std error = 0.002001 g/mL\n",
      "Current density mean std error = 0.001950 g/mL\n",
      "Current density mean std error = 0.001930 g/mL\n",
      "Current density mean std error = 0.001922 g/mL\n",
      "Current density mean std error = 0.002222 g/mL\n",
      "Current density mean std error = 0.001922 g/mL\n",
      "Current density mean std error = 0.001886 g/mL\n",
      "Current density mean std error = 0.002109 g/mL\n",
      "Current density mean std error = 0.002074 g/mL\n",
      "Current density mean std error = 0.002055 g/mL\n",
      "Current density mean std error = 0.002013 g/mL\n",
      "Current density mean std error = 0.001973 g/mL\n",
      "Current density mean std error = 0.001937 g/mL\n",
      "Current density mean std error = 0.001900 g/mL\n",
      "Current density mean std error = 0.001880 g/mL\n",
      "Current density mean std error = 0.001869 g/mL\n",
      "Current density mean std error = 0.001930 g/mL\n",
      "Current density mean std error = 0.001902 g/mL\n",
      "Current density mean std error = 0.001868 g/mL\n",
      "Current density mean std error = 0.001835 g/mL\n",
      "Current density mean std error = 0.001814 g/mL\n",
      "Current density mean std error = 0.001709 g/mL\n",
      "Current density mean std error = 0.001684 g/mL\n",
      "Current density mean std error = 0.001740 g/mL\n",
      "Current density mean std error = 0.001745 g/mL\n",
      "Current density mean std error = 0.001720 g/mL\n",
      "Current density mean std error = 0.001699 g/mL\n",
      "Current density mean std error = 0.001677 g/mL\n",
      "Current density mean std error = 0.001653 g/mL\n",
      "Current density mean std error = 0.001630 g/mL\n",
      "Current density mean std error = 0.001618 g/mL\n",
      "Current density mean std error = 0.001646 g/mL\n",
      "Current density mean std error = 0.001721 g/mL\n",
      "Current density mean std error = 0.001708 g/mL\n",
      "Current density mean std error = 0.001684 g/mL\n",
      "Current density mean std error = 0.001671 g/mL\n",
      "Current density mean std error = 0.001644 g/mL\n",
      "Current density mean std error = 0.001625 g/mL\n",
      "Current density mean std error = 0.001603 g/mL\n",
      "Current density mean std error = 0.001621 g/mL\n",
      "Current density mean std error = 0.001593 g/mL\n",
      "Current density mean std error = 0.001584 g/mL\n",
      "Current density mean std error = 0.001574 g/mL\n",
      "Current density mean std error = 0.001554 g/mL\n",
      "Current density mean std error = 0.001535 g/mL\n",
      "Current density mean std error = 0.001529 g/mL\n",
      "Current density mean std error = 0.001460 g/mL\n",
      "Current density mean std error = 0.001506 g/mL\n",
      "Current density mean std error = 0.001500 g/mL\n",
      "Current density mean std error = 0.001487 g/mL\n",
      "Current density mean std error = 0.001471 g/mL\n",
      "Current density mean std error = 0.001454 g/mL\n",
      "Current density mean std error = 0.001451 g/mL\n",
      "Current density mean std error = 0.001482 g/mL\n",
      "Current density mean std error = 0.001485 g/mL\n",
      "Current density mean std error = 0.001464 g/mL\n",
      "Current density mean std error = 0.001448 g/mL\n",
      "Current density mean std error = 0.001432 g/mL\n",
      "Current density mean std error = 0.001420 g/mL\n",
      "Current density mean std error = 0.001405 g/mL\n",
      "Current density mean std error = 0.001395 g/mL\n",
      "Current density mean std error = 0.001378 g/mL\n",
      "Current density mean std error = 0.001377 g/mL\n",
      "Current density mean std error = 0.001363 g/mL\n",
      "Current density mean std error = 0.001349 g/mL\n",
      "Current density mean std error = 0.001338 g/mL\n",
      "Current density mean std error = 0.001337 g/mL\n",
      "Current density mean std error = 0.001323 g/mL\n",
      "Current density mean std error = 0.001314 g/mL\n",
      "Current density mean std error = 0.001307 g/mL\n",
      "Current density mean std error = 0.001296 g/mL\n",
      "Current density mean std error = 0.001296 g/mL\n",
      "Current density mean std error = 0.001305 g/mL\n",
      "Current density mean std error = 0.001303 g/mL\n",
      "Current density mean std error = 0.001298 g/mL\n",
      "Current density mean std error = 0.001290 g/mL\n",
      "Current density mean std error = 0.001279 g/mL\n",
      "Current density mean std error = 0.001268 g/mL\n",
      "Current density mean std error = 0.001258 g/mL\n",
      "Current density mean std error = 0.001253 g/mL\n",
      "Current density mean std error = 0.001248 g/mL\n",
      "Current density mean std error = 0.001242 g/mL\n",
      "Current density mean std error = 0.001254 g/mL\n",
      "Current density mean std error = 0.001245 g/mL\n",
      "Current density mean std error = 0.001235 g/mL\n",
      "Current density mean std error = 0.001227 g/mL\n",
      "Current density mean std error = 0.001217 g/mL\n",
      "Current density mean std error = 0.001206 g/mL\n",
      "Current density mean std error = 0.001197 g/mL\n",
      "Current density mean std error = 0.001189 g/mL\n",
      "Current density mean std error = 0.001182 g/mL\n",
      "Current density mean std error = 0.001180 g/mL\n",
      "Current density mean std error = 0.001177 g/mL\n",
      "Current density mean std error = 0.001166 g/mL\n",
      "Current density mean std error = 0.001160 g/mL\n",
      "Current density mean std error = 0.001154 g/mL\n",
      "Current density mean std error = 0.001152 g/mL\n",
      "Current density mean std error = 0.001147 g/mL\n",
      "Current density mean std error = 0.001143 g/mL\n",
      "Current density mean std error = 0.001138 g/mL\n",
      "Current density mean std error = 0.001139 g/mL\n",
      "Current density mean std error = 0.001138 g/mL\n",
      "Current density mean std error = 0.001139 g/mL\n",
      "Current density mean std error = 0.001147 g/mL\n",
      "Current density mean std error = 0.001140 g/mL\n",
      "Current density mean std error = 0.001136 g/mL\n",
      "Current density mean std error = 0.001129 g/mL\n",
      "Current density mean std error = 0.001122 g/mL\n",
      "Current density mean std error = 0.001117 g/mL\n",
      "Current density mean std error = 0.001119 g/mL\n",
      "Current density mean std error = 0.001117 g/mL\n",
      "Current density mean std error = 0.001124 g/mL\n",
      "Current density mean std error = 0.001123 g/mL\n",
      "Current density mean std error = 0.001119 g/mL\n",
      "Current density mean std error = 0.001113 g/mL\n",
      "Current density mean std error = 0.001105 g/mL\n",
      "Current density mean std error = 0.001104 g/mL\n",
      "Current density mean std error = 0.001100 g/mL\n",
      "Current density mean std error = 0.001115 g/mL\n",
      "Current density mean std error = 0.001122 g/mL\n",
      "Current density mean std error = 0.001121 g/mL\n",
      "Current density mean std error = 0.001113 g/mL\n",
      "Current density mean std error = 0.001106 g/mL\n",
      "Current density mean std error = 0.001099 g/mL\n",
      "Current density mean std error = 0.001095 g/mL\n",
      "Current density mean std error = 0.001106 g/mL\n",
      "Current density mean std error = 0.001115 g/mL\n",
      "Current density mean std error = 0.001109 g/mL\n",
      "Current density mean std error = 0.001103 g/mL\n",
      "Current density mean std error = 0.001098 g/mL\n",
      "Current density mean std error = 0.001097 g/mL\n",
      "Current density mean std error = 0.001089 g/mL\n",
      "Current density mean std error = 0.001083 g/mL\n",
      "Current density mean std error = 0.001078 g/mL\n",
      "Current density mean std error = 0.001078 g/mL\n",
      "Current density mean std error = 0.001077 g/mL\n",
      "Current density mean std error = 0.001073 g/mL\n",
      "Current density mean std error = 0.001068 g/mL\n",
      "Current density mean std error = 0.001062 g/mL\n"
     ]
    },
    {
     "name": "stdout",
     "output_type": "stream",
     "text": [
      "Current density mean std error = 0.001056 g/mL\n",
      "Current density mean std error = 0.001051 g/mL\n",
      "Current density mean std error = 0.001044 g/mL\n",
      "Current density mean std error = 0.001038 g/mL\n",
      "Current density mean std error = 0.001032 g/mL\n",
      "Current density mean std error = 0.001027 g/mL\n",
      "Current density mean std error = 0.001025 g/mL\n",
      "Current density mean std error = 0.001021 g/mL\n",
      "Current density mean std error = 0.001017 g/mL\n",
      "Current density mean std error = 0.001014 g/mL\n",
      "Current density mean std error = 0.001007 g/mL\n",
      "Current density mean std error = 0.001002 g/mL\n",
      "Current density mean std error = 0.000996 g/mL\n",
      "...Convergence is OK; equilibration estimated to be achieved after data point 0\n",
      "\n"
     ]
    }
   ],
   "source": [
    "while not converged:\n",
    "    simulation.step(run_steps)\n",
    "\n",
    "    # Read data\n",
    "    d = pd.read_csv(prod_data_filename, names=[\"step\", \"U\", \"Temperature\", \"Density\"], skiprows=1)\n",
    "    density_ts = np.array(d.Density)\n",
    "    \n",
    "    # Detect when it seems to have equilibrated and clip off the part prior\n",
    "    [t0, g, Neff] = ts.detectEquilibration(density_ts)\n",
    "    density_ts = density_ts[t0:]\n",
    "    \n",
    "    # Compute standard error of what's left\n",
    "    density_mean_stderr = density_ts.std() / np.sqrt(Neff)\n",
    "\n",
    "    # Print stats, see if converged\n",
    "    print(\"Current density mean std error = %f g/mL\" % density_mean_stderr)\n",
    "\n",
    "    if density_mean_stderr < density_tolerance :\n",
    "        converged = True\n",
    "        print(\"...Convergence is OK; equilibration estimated to be achieved after data point %s\\n\" % t0)"
   ]
  },
  {
   "cell_type": "markdown",
   "metadata": {
    "slideshow": {
     "slide_type": "slide"
    }
   },
   "source": [
    "# Analyzing density results in this notebook\n",
    "\n",
    "- The above may take some time to converge\n",
    "- (You can set the threshold higher, which may lead to apparently false convergence)\n",
    "- Here we'll analyze some sample density data I've provided"
   ]
  },
  {
   "cell_type": "markdown",
   "metadata": {
    "slideshow": {
     "slide_type": "subslide"
    }
   },
   "source": [
    "## Matplotlib is quite nice for analysis"
   ]
  },
  {
   "cell_type": "code",
   "execution_count": 167,
   "metadata": {
    "slideshow": {
     "slide_type": "fragment"
    }
   },
   "outputs": [
    {
     "data": {
      "text/plain": [
       "[<matplotlib.lines.Line2D at 0x10b7716d8>]"
      ]
     },
     "execution_count": 167,
     "metadata": {},
     "output_type": "execute_result"
    },
    {
     "data": {
      "image/png": "[encoded data removed]",
      "text/plain": [
       "<matplotlib.figure.Figure at 0x10b892cf8>"
      ]
     },
     "metadata": {},
     "output_type": "display_data"
    }
   ],
   "source": [
    "# Prep matplotlib/pylab to display here\n",
    "%matplotlib inline\n",
    "from pylab import *\n",
    "\n",
    "# Load density\n",
    "\n",
    "d = pd.read_csv('density_simulation/prod/phenol_toluene_cyclohexane_1_10_100_prod.csv', names=[\"step\", \"U\", \"Temperature\", \"Density\"], skiprows=1)\n",
    "\n",
    "# Plot instantaneous density\n",
    "\n",
    "xlabel('Step')\n",
    "ylabel('Density (g/mL)')\n",
    "plot( np.array(d.step), np.array(d.Density), 'b-')"
   ]
  },
  {
   "cell_type": "code",
   "execution_count": 174,
   "metadata": {
    "slideshow": {
     "slide_type": "subslide"
    }
   },
   "outputs": [],
   "source": [
    "#Detect equilibration\n",
    "density_ts = np.array(d.Density)\n",
    "[t0, g, Neff] = ts.detectEquilibration(density_ts)\n",
    "\n",
    "# Clip out unequilibrated region\n",
    "density_ts = density_ts[t0:]\n",
    "stepnrs = np.array(d.step[t0:])\n",
    "\n",
    "# Compute mean density up to the present at each time, along with associated uncertainty\n",
    "mean_density = [ density_ts[0:i].mean() for i in range(2, len(density_ts)) ]\n",
    "mean_density_stderr = [ ]\n",
    "for i in range(2,len(density_ts)):\n",
    "    g = ts.statisticalInefficiency( density_ts[0:i])\n",
    "    stderr = density_ts[0:i].std()/sqrt(i/g)\n",
    "    mean_density_stderr.append(stderr)"
   ]
  },
  {
   "cell_type": "code",
   "execution_count": 173,
   "metadata": {},
   "outputs": [
    {
     "data": {
      "image/png": "[encoded data removed]",
      "text/plain": [
       "<matplotlib.figure.Figure at 0x123d26f60>"
      ]
     },
     "metadata": {},
     "output_type": "display_data"
    },
    {
     "name": "stdout",
     "output_type": "stream",
     "text": [
      "Experimental density of cyclohexane is 0.78 g/mL at 20C\n"
     ]
    }
   ],
   "source": [
    "# Plot\n",
    "figure()\n",
    "errorbar(stepnrs[2:], mean_density, yerr=mean_density_stderr, fmt='b-' )\n",
    "xlabel('Step')\n",
    "ylabel('Density (g/mL)')\n",
    "show()\n",
    "print(\"Experimental density of cyclohexane is 0.78 g/mL at 20C\" ) # per PubChem, https://pubchem.ncbi.nlm.nih.gov/compound/cyclohexane#section=Solubility"
   ]
  },
  {
   "cell_type": "markdown",
   "metadata": {
    "slideshow": {
     "slide_type": "slide"
    }
   },
   "source": [
    "# The density calculation could use an alternate SMIRNOFF force field\n",
    "\n",
    "- A new approach to force fields\n",
    "- Uses direct chemical perception rather than atom typing\n",
    "- Simpler, more extensible, easier to modify\n",
    "- See `github.com/openforcefield/openforcefield` and `openforcefield.org` for more\n",
    "- Prototype small molecule force field `smirnoff99Frosst` somewhat comparable to GAFF\n",
    "- Input: OpenMM Topology of system, OEMols of components"
   ]
  },
  {
   "cell_type": "code",
   "execution_count": 177,
   "metadata": {
    "slideshow": {
     "slide_type": "subslide"
    }
   },
   "outputs": [],
   "source": [
    "# Load OEMols of components:\n",
    "indir = 'mixtures'\n",
    "monomer_files = [ os.path.join( indir, 'monomers', name+'.mol2') for name in ['phenol', 'toluene', 'cyclohexane']]\n",
    "monomers = []\n",
    "for fname in monomer_files:\n",
    "    ifile = oemolistream( fname )\n",
    "    mol = OEMol()\n",
    "    OEReadMolecule(ifile, mol)\n",
    "    monomers.append(mol)\n",
    "    ifile.close()"
   ]
  },
  {
   "cell_type": "code",
   "execution_count": 178,
   "metadata": {
    "slideshow": {
     "slide_type": "fragment"
    }
   },
   "outputs": [],
   "source": [
    "# Load Topology of mixture\n",
    "pdb = PDBFile( os.path.join( indir, 'packmol_boxes', 'phenol_toluene_cyclohexane_1_10_100.pdb'))"
   ]
  },
  {
   "cell_type": "code",
   "execution_count": 182,
   "metadata": {},
   "outputs": [],
   "source": [
    "# Parameterize our system\n",
    "from openforcefield.typing.engines.smirnoff import *\n",
    "ff = ForceField('forcefield/smirnoff99Frosst.ffxml', 'sample_files/hbonds.ffxml')\n",
    "system = ff.createSystem(pdb.topology, monomers, nonbondedMethod = PME, nonbondedCutoff = 1*nanometer)"
   ]
  },
  {
   "cell_type": "code",
   "execution_count": 183,
   "metadata": {},
   "outputs": [],
   "source": [
    "# Prepare the integrator\n",
    "integrator = LangevinIntegrator(300*kelvin, 1/picosecond, 0.002*picoseconds)\n",
    "# Prep the simulation\n",
    "simulation = Simulation(pdb.topology, system, integrator)\n",
    "simulation.context.setPositions(pdb.positions)"
   ]
  },
  {
   "cell_type": "code",
   "execution_count": 184,
   "metadata": {},
   "outputs": [
    {
     "name": "stdout",
     "output_type": "stream",
     "text": [
      "Energy before minimization (kcal/mol): 2.4e+06\n",
      "Energy after minimization (kcal/mol): 3e+03\n"
     ]
    }
   ],
   "source": [
    "# Get and print initial energy\n",
    "state = simulation.context.getState(getEnergy = True)\n",
    "energy = state.getPotentialEnergy() / kilocalories_per_mole\n",
    "print(\"Energy before minimization (kcal/mol): %.2g\" % energy)\n",
    "\n",
    "# Energy minimize\n",
    "simulation.minimizeEnergy()\n",
    "\n",
    "# Get and print final energy\n",
    "state = simulation.context.getState(getEnergy=True, getPositions=True)\n",
    "energy = state.getPotentialEnergy() / kilocalories_per_mole\n",
    "print(\"Energy after minimization (kcal/mol): %.2g\" % energy)"
   ]
  },
  {
   "cell_type": "markdown",
   "metadata": {
    "slideshow": {
     "slide_type": "subslide"
    }
   },
   "source": [
    "## At this point, we could proceed with a density calculation as we did above\n",
    "\n",
    "- OpenMM is flexible\n",
    "- Once you get something IN, the origin doesn't really matter\n",
    "- Provides powerful way to get going with new things, implement new methods, etc.\n",
    "- OpenMM systems can be dumped to various other formats, such as via the useful `ParmEd` tool."
   ]
  },
  {
   "cell_type": "code",
   "execution_count": null,
   "metadata": {},
   "outputs": [],
   "source": []
  }
 ],
 "metadata": {
  "celltoolbar": "Slideshow",
  "kernelspec": {
   "display_name": "Python [default]",
   "language": "python",
   "name": "python3"
  },
  "language_info": {
   "codemirror_mode": {
    "name": "ipython",
    "version": 3
   },
   "file_extension": ".py",
   "mimetype": "text/x-python",
   "name": "python",
   "nbconvert_exporter": "python",
   "pygments_lexer": "ipython3",
   "version": "3.6.3"
  },
  "livereveal": {
   "height": 900,
   "start_slideshow_at": "selected",
   "width": 1440
  },
  "toc": {
   "nav_menu": {},
   "number_sections": true,
   "sideBar": true,
   "skip_h1_title": false,
   "toc_cell": false,
   "toc_position": {},
   "toc_section_display": "block",
   "toc_window_display": false
  }
 },
 "nbformat": 4,
 "nbformat_minor": 2
}
