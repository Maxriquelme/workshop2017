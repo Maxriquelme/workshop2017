{
 "cells": [
  {
   "cell_type": "markdown",
   "metadata": {
    "slideshow": {
     "slide_type": "skip"
    }
   },
   "source": [
    "# Symposium on Molecular Interactions Tutorials\n",
    "## What is this?? (Session 2).\n",
    "This is a Jupyter notebook. It runs Python, but also allows it to be interspersed with Markdown-formatted text, for a nice mixture of documentation and code.\n",
    "\n",
    "The particular material below is Session 2 of the tutorials on free energy calculations and OpenMM, from Day 1 of the Symposium on Molecular Interactions (2017).\n",
    "\n",
    "This content is available on the [symposium github repository](https://github.com/QCMM/workshop2017) at [https://github.com/QCMM/workshop2017](https://github.com/QCMM/workshop2017).\n",
    "\n",
    "This material is a set of slides intended for presentation with RISE (for presentations from Jupyter notebooks). While it may be useful without RISE, it will also likely appear somewhat less verbose than it would if it were intended for use in written form.\n",
    "\n",
    "## Authors/sources/acknowledgments\n",
    "Author: David L. Mobley (UCI)\n",
    "\n",
    "### Sources\n",
    "- Much of content adapted from materials I have developed or am developing for my [Drug Discovery Computing Techniques class](https://github.com/mobleylab/drug-computing).\n",
    "\n",
    "### Acknowledgments\n",
    "- John Chodera and Nathan Lim for help with OpenMM\n",
    "- OpenEye for help with OpenEye software, especially James Haigh"
   ]
  },
  {
   "cell_type": "markdown",
   "metadata": {
    "slideshow": {
     "slide_type": "slide"
    }
   },
   "source": [
    "# Outline of this afternoon's second session\n",
    "1. Some brief OpenMM basics (what's going on under the hood in Yank)\n",
    "2. A simple example of a density calculation which stops when converged\n",
    "3. Analyzing density results in this notebook\n",
    "4. SMIRNOFF force fields, modifying the density calculation to use them\n",
    "\n",
    "**To follow along**/run code: Open this Jupyter notebook in `solvation_free_energies/Session2.ipynb` via `jupyter notebook Session2.ipynb`. (See [prerequisites](../prerequisites.md) if you aren't using preinstalled software.) This is cumulative, building on `Session1.ipynb`.\n",
    "\n"
   ]
  },
  {
   "cell_type": "markdown",
   "metadata": {
    "slideshow": {
     "slide_type": "slide"
    }
   },
   "source": [
    "# Generate some input files we'll use\n",
    "\n",
    "- We want some inputs to work with as we see how OpenMM works\n",
    "- And for our sample density calculation\n",
    "- [`SolvationToolkit`](https://github.com/mobleylab/SolvationToolkit) provides simple wrappers for building arbitrary mixtures\n",
    "  - OpenEye toolkits\n",
    "  - [`packmol`](https://github.com/mcubeg/packmol)\n",
    "  - GAFF small molecule force field (and TIP3P or TIP4P, etc. for water)\n",
    "\n",
    "Let's build a system to use later"
   ]
  },
  {
   "cell_type": "code",
   "execution_count": 39,
   "metadata": {
    "slideshow": {
     "slide_type": "subslide"
    }
   },
   "outputs": [
    {
     "name": "stdout",
     "output_type": "stream",
     "text": [
      "\n",
      "WARNING: component name not provided; label will be used as component name\n",
      "\n",
      "\n",
      "WARNING: component name not provided; label will be used as component name\n",
      "\n",
      "\n",
      "WARNING: component name not provided; label will be used as component name\n",
      "\n"
     ]
    },
    {
     "name": "stderr",
     "output_type": "stream",
     "text": [
      "/Users/dmobley/anaconda3/envs/workshop_test/lib/python3.6/site-packages/pandas/io/parsers.py:2218: FutureWarning: split() requires a non-empty pattern match.\n",
      "  yield pat.split(line.strip())\n",
      "/Users/dmobley/anaconda3/envs/workshop_test/lib/python3.6/site-packages/pandas/io/parsers.py:2220: FutureWarning: split() requires a non-empty pattern match.\n",
      "  yield pat.split(line.strip())\n"
     ]
    },
    {
     "name": "stdout",
     "output_type": "stream",
     "text": [
      "\n",
      "# Mixture \n",
      "\n",
      "tolerance 2.000000\n",
      "filetype pdb\n",
      "output /var/folders/41/7d3rylg503n8nt_tn0hz6v8c0000gn/T/tmplhm4xyx2/tmp9yz9jwdt.pdb\n",
      "add_amber_ter\n",
      "\n",
      "\n",
      "structure /var/folders/41/7d3rylg503n8nt_tn0hz6v8c0000gn/T/tmplhm4xyx2/tmpn4thi8dz.pdb\n",
      "  number 1 \n",
      "  inside box 0. 0. 0. 25.521266 25.521266 25.521266\n",
      "end structure\n",
      "\n",
      "structure /var/folders/41/7d3rylg503n8nt_tn0hz6v8c0000gn/T/tmplhm4xyx2/tmp7j1f1b2x.pdb\n",
      "  number 10 \n",
      "  inside box 0. 0. 0. 25.521266 25.521266 25.521266\n",
      "end structure\n",
      "\n",
      "structure /var/folders/41/7d3rylg503n8nt_tn0hz6v8c0000gn/T/tmplhm4xyx2/tmp4ntd_h95.pdb\n",
      "  number 100 \n",
      "  inside box 0. 0. 0. 25.521266 25.521266 25.521266\n",
      "end structure\n",
      "\n",
      "\n",
      "source leaprc.gaff\n",
      "source oldff/leaprc.ff99SB\n",
      "ZSF = loadmol2 in0.mol2\n",
      "ZFO = loadmol2 in1.mol2\n",
      "ZQE = loadmol2 in2.mol2\n",
      "box = loadPdb tbox.pdb\n",
      "loadamberparams in0.frcmod\n",
      "loadamberparams in1.frcmod\n",
      "loadamberparams in2.frcmod\n",
      "setbox box centers\n",
      "saveAmberParm box out.prmtop out.inpcrd\n",
      "quit\n",
      "\n"
     ]
    }
   ],
   "source": [
    "from solvationtoolkit.solvated_mixtures import *\n",
    "mixture = MixtureSystem('mixtures')\n",
    "mixture.addComponent(label='phenol', smiles='c1ccc(cc1)O', number=1)\n",
    "mixture.addComponent(label='toluene', smiles='Cc1ccccc1', number=10)\n",
    "mixture.addComponent(label='cyclohexane', smiles='C1CCCCC1', number=100)\n",
    "#Generate output files for AMBER\n",
    "mixture.build(amber = True)"
   ]
  },
  {
   "cell_type": "markdown",
   "metadata": {
    "slideshow": {
     "slide_type": "slide"
    }
   },
   "source": [
    "# OpenMM is more of a simulation toolkit than a simulation package\n",
    "- Easy-to-use Python API\n",
    "- Very fast calculations on GPUs (but slow on CPUs)\n",
    "- Really easy to implement new techniques, do new science\n",
    "- Key ingredients in a calculation:\n",
    "    - `Topology`\n",
    "    - `System`\n",
    "    - `Simulation` (takes `System`, `Topology`, `Integrator`; contains positions)"
   ]
  },
  {
   "cell_type": "markdown",
   "metadata": {
    "slideshow": {
     "slide_type": "subslide"
    }
   },
   "source": [
    "## `Topology`: Chemical composition of your system\n",
    "\n",
    "- Atoms, bonds, etc.\n",
    "- Can be loaded from some common file formats such as PDB, mol2\n",
    "- Can be created from OpenEye molecule via [`oeommtools`](https://github.com/oess/oeommtools), such as [`oeommtools.utils.oemol_to_openmmTop`](https://github.com/oess/oeommtools/blob/master/oeommtools/utils.py#L17)\n",
    "    - Side note: An OE \"molecule\" can contain more than one molecule, so can contain protein+ligand+solvent for example\n",
    "- Tangent: Try to retain bond order info if you have it (e.g. from a mol2)"
   ]
  },
  {
   "cell_type": "code",
   "execution_count": 4,
   "metadata": {
    "slideshow": {
     "slide_type": "fragment"
    }
   },
   "outputs": [],
   "source": [
    "# Example Topology generation from a couple mechanisms:\n",
    "\n",
    "# Load a PDB\n",
    "from simtk.openmm.app import PDBFile\n",
    "pdb = PDBFile('sample_files/T4-protein.pdb')\n",
    "t4_topology = pdb.topology"
   ]
  },
  {
   "cell_type": "code",
   "execution_count": 35,
   "metadata": {
    "slideshow": {
     "slide_type": "subslide"
    }
   },
   "outputs": [
    {
     "name": "stderr",
     "output_type": "stream",
     "text": [
      "/Users/dmobley/anaconda3/envs/workshop_test/lib/python3.6/site-packages/pandas/io/parsers.py:2218: FutureWarning: split() requires a non-empty pattern match.\n",
      "  yield pat.split(line.strip())\n",
      "/Users/dmobley/anaconda3/envs/workshop_test/lib/python3.6/site-packages/pandas/io/parsers.py:2220: FutureWarning: split() requires a non-empty pattern match.\n",
      "  yield pat.split(line.strip())\n"
     ]
    },
    {
     "data": {
      "application/vnd.jupyter.widget-view+json": {
       "model_id": "efee0a58e94049e38f9ccda0e1aadb6f",
       "version_major": 2,
       "version_minor": 0
      },
      "text/html": [
       "<p>Failed to display Jupyter Widget of type <code>NGLWidget</code>.</p>\n",
       "<p>\n",
       "  If you're reading this message in the Jupyter Notebook or JupyterLab Notebook, it may mean\n",
       "  that the widgets JavaScript is still loading. If this message persists, it\n",
       "  likely means that the widgets JavaScript library is either not installed or\n",
       "  not enabled. See the <a href=\"https://ipywidgets.readthedocs.io/en/stable/user_install.html\">Jupyter\n",
       "  Widgets Documentation</a> for setup instructions.\n",
       "</p>\n",
       "<p>\n",
       "  If you're reading this message in another frontend (for example, a static\n",
       "  rendering on GitHub or <a href=\"https://nbviewer.jupyter.org/\">NBViewer</a>),\n",
       "  it may mean that your frontend doesn't currently support widgets.\n",
       "</p>\n"
      ],
      "text/plain": [
       "NGLWidget()"
      ]
     },
     "metadata": {},
     "output_type": "display_data"
    }
   ],
   "source": [
    "# Load a mol2: MDTraj supports a variety of file formats including mol2\n",
    "import mdtraj\n",
    "traj = mdtraj.load('sample_files/mobley_20524.mol2')\n",
    "# MDTraj objects contain a Topology, but an MDTraj topology; they support conversion to OpenMM\n",
    "traj.topology.to_openmm()\n",
    "\n",
    "# MDTraj can also handle PDB, plus trajectory formats which contain topology information\n",
    "protein_traj = mdtraj.load('sample_files/T4-protein.pdb')\n",
    "t4_topology = protein_traj.topology.to_openmm()\n",
    "# And we can visualize with nglview (or drop out to VMD)\n",
    "import nglview\n",
    "view = nglview.show_mdtraj(protein_traj)\n",
    "view"
   ]
  },
  {
   "cell_type": "code",
   "execution_count": 22,
   "metadata": {
    "slideshow": {
     "slide_type": "subslide"
    }
   },
   "outputs": [
    {
     "name": "stdout",
     "output_type": "stream",
     "text": [
      "Topology has 13 atoms\n"
     ]
    }
   ],
   "source": [
    "# Load AMBER gas phase topology\n",
    "from simtk.openmm.app import *\n",
    "prmtop = AmberPrmtopFile('sample_files/mobley_20524.prmtop')\n",
    "print(\"Topology has %s atoms\" % prmtop.topology.getNumAtoms())\n",
    "\n",
    "# Gromacs files can be loaded by GromacsTopFile and GromacsGroFile but you need topology/coordinate files\n",
    "# which don't have include statements, or a GROMACS installation"
   ]
  },
  {
   "cell_type": "code",
   "execution_count": 36,
   "metadata": {
    "slideshow": {
     "slide_type": "fragment"
    }
   },
   "outputs": [
    {
     "name": "stdout",
     "output_type": "stream",
     "text": [
      "13\n"
     ]
    }
   ],
   "source": [
    "# Load an OEMol and convert (note advantage over MDTraj for bond order, etc.)\n",
    "\n",
    "from openeye.oechem import *\n",
    "from oeommtools.utils import *\n",
    "mol = OEMol()\n",
    "istream = oemolistream( 'sample_files/mobley_20524.mol2')\n",
    "OEReadMolecule(istream, mol)\n",
    "istream.close()\n",
    "\n",
    "# Convert OEMol to Topology using oeommtools -- so you can get a topology from almost any format OE supports\n",
    "topology, positions = oemol_to_openmmTop(mol)\n",
    "print(topology.getNumAtoms())"
   ]
  },
  {
   "cell_type": "markdown",
   "metadata": {
    "slideshow": {
     "slide_type": "subslide"
    }
   },
   "source": [
    "## `System`: Your parameterized system\n",
    "- Often generated by `createSystem`, but requires OpenMM know how to assign parameters\n",
    "  - Easy for standard biomolecules (proteins, nucleic acids), waters ions\n",
    "  - OpenMM FFXML files used; available for many common FFs\n",
    "  - More complex for general small molecules\n",
    "- Can also be loaded from common file formats such as GROMACS, AMBER\n",
    "  - useful if you set up for AMBER or GROMACS\n",
    "- We have new open forcefield effort that provides new force fields with an `openforcefield.createSystem` operator; generates OpenMM Systems."
   ]
  },
  {
   "cell_type": "code",
   "execution_count": 37,
   "metadata": {
    "slideshow": {
     "slide_type": "subslide"
    }
   },
   "outputs": [],
   "source": [
    "# Example system creation\n",
    "#From OpenMM Docs: http://docs.openmm.org/latest/userguide/application.html#running-simulations\n",
    "from simtk.openmm.app import *\n",
    "from simtk.openmm import *\n",
    "from simtk.unit import *\n",
    "from sys import stdout\n",
    "\n",
    "# Example System creation using OpenMM XML force field libraries -- good for biomolecules, ions, water\n",
    "pdb = PDBFile('sample_files/input.pdb')\n",
    "forcefield = ForceField('amber99sb.xml', 'tip3p.xml')\n",
    "system = forcefield.createSystem(pdb.topology, nonbondedMethod=PME,\n",
    "        nonbondedCutoff=1*nanometer, constraints=HBonds)\n"
   ]
  },
  {
   "cell_type": "code",
   "execution_count": 49,
   "metadata": {
    "slideshow": {
     "slide_type": "subslide"
    }
   },
   "outputs": [
    {
     "name": "stdout",
     "output_type": "stream",
     "text": [
      "Generated /Users/dmobley/github/workshop2017/Free_energy_day1/OpenMM/phenol.prmtop and /Users/dmobley/github/workshop2017/Free_energy_day1/OpenMM/phenol.inpcrd\n"
     ]
    }
   ],
   "source": [
    "# Or you could set up your own molecule for simulation with e.g. GAFF using AmberTools\n",
    "\n",
    "from openmoltools.amber import *\n",
    "# Generate GAFF-typed mol2 file and AMBER frcmod file using AmberTools\n",
    "gaff_mol2_file, frcmod_file = run_antechamber('phenol', 'sample_files/mobley_20524.mol2')\n",
    "# Generate AMBER files\n",
    "prmtop_name, inpcrd_name = run_tleap( 'phenol', gaff_mol2_file, frcmod_file)\n",
    "print(\"Generated %s and %s\" % (prmtop_name, inpcrd_name))\n",
    "\n",
    "# Create System -- in this case, single molecule in gas phase\n",
    "prmtop = AmberPrmtopFile( prmtop_name)\n",
    "inpcrd = AmberInpcrdFile( inpcrd_name)\n",
    "system = prmtop.createSystem(nonbondedMethod = NoCutoff, nonbondedCutoff = NoCutoff, constraints = HBonds)"
   ]
  },
  {
   "cell_type": "code",
   "execution_count": 58,
   "metadata": {
    "slideshow": {
     "slide_type": "subslide"
    }
   },
   "outputs": [
    {
     "name": "stderr",
     "output_type": "stream",
     "text": [
      "Exception ignored in: <bound method PDBReporter.__del__ of <simtk.openmm.app.pdbreporter.PDBReporter object at 0x124d9aac8>>\n",
      "Traceback (most recent call last):\n",
      "  File \"/Users/dmobley/anaconda3/envs/workshop_test/lib/python3.6/site-packages/simtk/openmm/app/pdbreporter.py\", line 98, in __del__\n",
      "    if self._topology is not None:\n",
      "AttributeError: 'PDBReporter' object has no attribute '_topology'\n"
     ]
    },
    {
     "data": {
      "application/vnd.jupyter.widget-view+json": {
       "model_id": "e92b449c82c548bcab4955a9d914acb3",
       "version_major": 2,
       "version_minor": 0
      },
      "text/html": [
       "<p>Failed to display Jupyter Widget of type <code>NGLWidget</code>.</p>\n",
       "<p>\n",
       "  If you're reading this message in the Jupyter Notebook or JupyterLab Notebook, it may mean\n",
       "  that the widgets JavaScript is still loading. If this message persists, it\n",
       "  likely means that the widgets JavaScript library is either not installed or\n",
       "  not enabled. See the <a href=\"https://ipywidgets.readthedocs.io/en/stable/user_install.html\">Jupyter\n",
       "  Widgets Documentation</a> for setup instructions.\n",
       "</p>\n",
       "<p>\n",
       "  If you're reading this message in another frontend (for example, a static\n",
       "  rendering on GitHub or <a href=\"https://nbviewer.jupyter.org/\">NBViewer</a>),\n",
       "  it may mean that your frontend doesn't currently support widgets.\n",
       "</p>\n"
      ],
      "text/plain": [
       "NGLWidget()"
      ]
     },
     "metadata": {},
     "output_type": "display_data"
    }
   ],
   "source": [
    "# Load the mixture we generated above in Section 3\n",
    "file_prefix = 'mixtures/amber/phenol_toluene_cyclohexane_1_10_100'\n",
    "prmtop = AmberPrmtopFile( file_prefix+'.prmtop')\n",
    "inpcrd = AmberInpcrdFile( file_prefix+'.inpcrd')\n",
    "# Create system: Here, solution phase with periodic boundary conditions and constraints\n",
    "system = prmtop.createSystem(nonbondedMethod = PME, nonbondedCutoff = 1*nanometer, constraints = HBonds)\n",
    "\n",
    "#You can visualize the above with VMD, or we can do:\n",
    "traj = mdtraj.load( file_prefix + '.inpcrd', top = file_prefix + '.prmtop')\n",
    "view = nglview.show_mdtraj(traj)\n",
    "view"
   ]
  },
  {
   "cell_type": "markdown",
   "metadata": {
    "slideshow": {
     "slide_type": "subslide"
    }
   },
   "source": [
    "## `Simulation`: The system, topology, and positions you're simulating, under what conditions\n",
    "- Could be for energy minimization, or different types of dynamics\n",
    "- Has an integrator attached (even if just minimizing), including temperature\n",
    "- `context` -- including positions, periodic box if applicable, etc.\n",
    "- If dynamics, has:\n",
    "  - timestep\n",
    "  - velocities\n",
    "- potentially also has reporters which store properties like energies, trajectory snapshots, etc.\n"
   ]
  },
  {
   "cell_type": "markdown",
   "metadata": {
    "slideshow": {
     "slide_type": "subslide"
    }
   },
   "source": [
    "### Let's take that last `System` we set up and energy minimize it\n",
    "(The mixture of toluene, phenol, and cyclohexane we generated originally)"
   ]
  },
  {
   "cell_type": "code",
   "execution_count": 84,
   "metadata": {
    "slideshow": {
     "slide_type": "fragment"
    }
   },
   "outputs": [],
   "source": [
    "# Prepare the integrator\n",
    "integrator = LangevinIntegrator(300*kelvin, 1/picosecond, 0.002*picoseconds)"
   ]
  },
  {
   "cell_type": "code",
   "execution_count": 85,
   "metadata": {
    "slideshow": {
     "slide_type": "fragment"
    }
   },
   "outputs": [],
   "source": [
    "# Prep the simulation\n",
    "simulation = Simulation(prmtop.topology, system, integrator)\n",
    "simulation.context.setPositions(inpcrd.positions)"
   ]
  },
  {
   "cell_type": "code",
   "execution_count": 86,
   "metadata": {
    "slideshow": {
     "slide_type": "fragment"
    }
   },
   "outputs": [
    {
     "name": "stdout",
     "output_type": "stream",
     "text": [
      "Energy before minimization (kcal/mol): 1.4e+11\n",
      "Energy after minimization (kcal/mol): -5.2e+02\n"
     ]
    }
   ],
   "source": [
    "# Get and print initial energy\n",
    "state = simulation.context.getState(getEnergy = True)\n",
    "energy = state.getPotentialEnergy() / kilocalories_per_mole\n",
    "print(\"Energy before minimization (kcal/mol): %.2g\" % energy)\n",
    "\n",
    "# Energy minimize\n",
    "simulation.minimizeEnergy()\n",
    "\n",
    "# Get and print final energy\n",
    "state = simulation.context.getState(getEnergy=True, getPositions=True)\n",
    "energy = state.getPotentialEnergy() / kilocalories_per_mole\n",
    "print(\"Energy after minimization (kcal/mol): %.2g\" % energy)"
   ]
  },
  {
   "cell_type": "code",
   "execution_count": 87,
   "metadata": {
    "slideshow": {
     "slide_type": "subslide"
    }
   },
   "outputs": [
    {
     "name": "stdout",
     "output_type": "stream",
     "text": [
      "#\"Step\",\"Potential Energy (kJ/mole)\",\"Temperature (K)\"\n",
      "100,-1109.9224637128173,54.69351014571072\n",
      "200,-192.39539348190215,101.4504354837445\n",
      "300,543.3308916038798,139.8896963751966\n",
      "400,1086.4798234975003,174.20000188340617\n",
      "500,1573.0376620142476,199.48045687227065\n",
      "600,1889.7272743018164,217.1304905596919\n",
      "700,2018.7855834912837,233.2740020370527\n",
      "800,2353.587298148478,243.50956474431544\n",
      "900,2470.443812347392,256.9557828532118\n",
      "1000,2675.8771517933874,267.2388578722047\n"
     ]
    }
   ],
   "source": [
    "# While we're at it, why don't we just run a few steps of dynamics\n",
    "simulation.reporters.append(PDBReporter('sample_files/mixture_output.pdb', 100))\n",
    "simulation.reporters.append(StateDataReporter(stdout, 100, step=True,\n",
    "        potentialEnergy=True, temperature=True))\n",
    "simulation.step(1000)"
   ]
  },
  {
   "cell_type": "markdown",
   "metadata": {
    "slideshow": {
     "slide_type": "slide"
    }
   },
   "source": [
    "# A simple example of a density calculation which stops when converged\n"
   ]
  },
  {
   "cell_type": "markdown",
   "metadata": {},
   "source": [
    "## There's a script version of this which has equilibration, etc... deposited ..."
   ]
  },
  {
   "cell_type": "markdown",
   "metadata": {},
   "source": [
    "# Analyzing density results in this notebook"
   ]
  },
  {
   "cell_type": "markdown",
   "metadata": {},
   "source": [
    "# SMIRNOFF force fields, modifying the density calculation to use them"
   ]
  },
  {
   "cell_type": "code",
   "execution_count": 5,
   "metadata": {},
   "outputs": [],
   "source": [
    "import pandas"
   ]
  },
  {
   "cell_type": "code",
   "execution_count": null,
   "metadata": {},
   "outputs": [],
   "source": []
  }
 ],
 "metadata": {
  "celltoolbar": "Slideshow",
  "kernelspec": {
   "display_name": "Python [default]",
   "language": "python",
   "name": "python3"
  },
  "language_info": {
   "codemirror_mode": {
    "name": "ipython",
    "version": 3
   },
   "file_extension": ".py",
   "mimetype": "text/x-python",
   "name": "python",
   "nbconvert_exporter": "python",
   "pygments_lexer": "ipython3",
   "version": "3.6.3"
  },
  "livereveal": {
   "height": 900,
   "start_slideshow_at": "selected",
   "width": 1440
  },
  "toc": {
   "nav_menu": {},
   "number_sections": true,
   "sideBar": true,
   "skip_h1_title": false,
   "toc_cell": false,
   "toc_position": {},
   "toc_section_display": "block",
   "toc_window_display": false
  }
 },
 "nbformat": 4,
 "nbformat_minor": 2
}
