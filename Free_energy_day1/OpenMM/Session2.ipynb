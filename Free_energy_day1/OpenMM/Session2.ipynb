{
 "cells": [
  {
   "cell_type": "markdown",
   "metadata": {
    "slideshow": {
     "slide_type": "skip"
    }
   },
   "source": [
    "# Symposium on Molecular Interactions Tutorials\n",
    "## What is this?? (Session 2).\n",
    "This is a Jupyter notebook. It runs Python, but also allows it to be interspersed with Markdown-formatted text, for a nice mixture of documentation and code.\n",
    "\n",
    "The particular material below is Session 2 of the tutorials on free energy calculations and OpenMM, from Day 1 of the Symposium on Molecular Interactions (2017).\n",
    "\n",
    "This content is available on the [symposium github repository](https://github.com/QCMM/workshop2017) at [https://github.com/QCMM/workshop2017](https://github.com/QCMM/workshop2017).\n",
    "\n",
    "This material is a set of slides intended for presentation with RISE (for presentations from Jupyter notebooks). While it may be useful without RISE, it will also likely appear somewhat less verbose than it would if it were intended for use in written form.\n",
    "\n",
    "## Authors/sources/acknowledgments\n",
    "Author: David L. Mobley (UCI)\n",
    "\n",
    "### Sources\n",
    "- Much of content adapted from materials I have developed or am developing for my [Drug Discovery Computing Techniques class](https://github.com/mobleylab/drug-computing).\n",
    "\n",
    "### Acknowledgments\n",
    "- John Chodera and Nathan Lim for help with OpenMM\n",
    "- OpenEye for help with OpenEye software, especially James Haigh"
   ]
  },
  {
   "cell_type": "markdown",
   "metadata": {
    "slideshow": {
     "slide_type": "slide"
    }
   },
   "source": [
    "# Outline of this afternoon's second session\n",
    "1. Some brief OpenMM basics (what's going on under the hood in Yank)\n",
    "2. A simple example of a density calculation which stops when converged\n",
    "3. Analyzing density results in this notebook\n",
    "4. SMIRNOFF force fields, modifying the density calculation to use them\n",
    "\n",
    "**To follow along**/run code: Open this Jupyter notebook in `solvation_free_energies/Session2.ipynb` via `jupyter notebook Session2.ipynb`. (See [prerequisites](../prerequisites.md) if you aren't using preinstalled software.) This is cumulative, building on `Session1.ipynb`.\n",
    "\n"
   ]
  },
  {
   "cell_type": "markdown",
   "metadata": {
    "slideshow": {
     "slide_type": "slide"
    }
   },
   "source": [
    "# OpenMM is more of a simulation toolkit than a simulation package\n",
    "- Easy-to-use Python API\n",
    "- Very fast calculations on GPUs (but slow on CPUs)\n",
    "- Really easy to implement new techniques, do new science\n",
    "- Key ingredients in a calculation:\n",
    "    - `Topology`\n",
    "    - `System`\n",
    "    - `Simulation` (takes `System`, `Topology`, `Integrator`; contains positions)"
   ]
  },
  {
   "cell_type": "markdown",
   "metadata": {
    "slideshow": {
     "slide_type": "subslide"
    }
   },
   "source": [
    "## `Topology`: Chemical composition of your system\n",
    "\n",
    "- Atoms, bonds, etc.\n",
    "- Can be loaded from some common file formats such as PDB, mol2\n",
    "- Can be created from OpenEye molecule via [`oeommtools`](https://github.com/oess/oeommtools), such as [`oeommtools.utils.oemol_to_openmmTop`](https://github.com/oess/oeommtools/blob/master/oeommtools/utils.py#L17)\n",
    "    - Side note: An OE \"molecule\" can contain more than one molecule, so can contain protein+ligand+solvent for example\n",
    "- Tangent: Try to retain bond order info if you have it (e.g. from a mol2)"
   ]
  },
  {
   "cell_type": "code",
   "execution_count": 4,
   "metadata": {
    "slideshow": {
     "slide_type": "subslide"
    }
   },
   "outputs": [],
   "source": [
    "# Example Topology generation from a couple mechanisms here\n",
    "\n",
    "# Load a PDB\n",
    "from simtk.openmm.app import PDBFile\n",
    "pdb = PDBFile('sample_files/T4-protein.pdb')\n",
    "t4_topology = pdb.topology"
   ]
  },
  {
   "cell_type": "code",
   "execution_count": 8,
   "metadata": {
    "slideshow": {
     "slide_type": "fragment"
    }
   },
   "outputs": [
    {
     "name": "stderr",
     "output_type": "stream",
     "text": [
      "/Users/dmobley/anaconda3/envs/workshop_test/lib/python3.6/site-packages/pandas/io/parsers.py:2218: FutureWarning: split() requires a non-empty pattern match.\n",
      "  yield pat.split(line.strip())\n",
      "/Users/dmobley/anaconda3/envs/workshop_test/lib/python3.6/site-packages/pandas/io/parsers.py:2220: FutureWarning: split() requires a non-empty pattern match.\n",
      "  yield pat.split(line.strip())\n"
     ]
    }
   ],
   "source": [
    "# Load a mol2: MDTraj supports a variety of file formats including mol2\n",
    "import mdtraj\n",
    "traj = mdtraj.load('sample_files/mobley_20524.mol2')\n",
    "# MDTraj objects contain a Topology, but an MDTraj topology; they support conversion to OpenMM\n",
    "traj.topology.to_openmm()"
   ]
  },
  {
   "cell_type": "code",
   "execution_count": null,
   "metadata": {},
   "outputs": [],
   "source": [
    "# Load AMBER\n",
    "\n",
    "# Load GROMACS\n",
    "\n",
    "# Load an OEMol and convert (note advantage over MDTraj for bond order, etc.)\n",
    "\n",
    "## Probably should have some visualization, note that they can check these out using VMD?"
   ]
  },
  {
   "cell_type": "markdown",
   "metadata": {
    "slideshow": {
     "slide_type": "subslide"
    }
   },
   "source": [
    "## `System`: Your parameterized system\n",
    "- Often generated by `createSystem`, but requires OpenMM know how to assign parameters\n",
    "  - Easy for standard biomolecules (proteins, nucleic acids), waters ions\n",
    "  - OpenMM FFXML files used; available for many common FFs\n",
    "  - More complex for general small molecules\n",
    "- Can also be loaded from common file formats such as GROMACS, AMBER\n",
    "  - useful if you set up for AMBER or GROMACS\n",
    "- We have new open forcefield effort that provides new force fields with an `openforcefield.createSystem` operator; generates OpenMM Systems."
   ]
  },
  {
   "cell_type": "code",
   "execution_count": 2,
   "metadata": {
    "slideshow": {
     "slide_type": "subslide"
    }
   },
   "outputs": [],
   "source": [
    "## From OpenMM Docs: http://docs.openmm.org/latest/userguide/application.html#running-simulations\n",
    "from simtk.openmm.app import *\n",
    "from simtk.openmm import *\n",
    "from simtk.unit import *\n",
    "from sys import stdout\n",
    "\n",
    "pdb = PDBFile('input.pdb')\n",
    "forcefield = ForceField('amber99sb.xml', 'tip3p.xml')\n",
    "system = forcefield.createSystem(pdb.topology, nonbondedMethod=PME,\n",
    "        nonbondedCutoff=1*nanometer, constraints=HBonds)\n",
    "integrator = LangevinIntegrator(300*kelvin, 1/picosecond, 0.002*picoseconds)\n",
    "simulation = Simulation(pdb.topology, system, integrator)\n",
    "simulation.context.setPositions(pdb.positions)\n",
    "simulation.minimizeEnergy()\n",
    "simulation.reporters.append(PDBReporter('output.pdb', 1000))\n",
    "simulation.reporters.append(StateDataReporter(stdout, 1000, step=True,\n",
    "        potentialEnergy=True, temperature=True))\n",
    "simulation.step(10000)\n",
    "\n",
    "# Example System creation here\n",
    "\n",
    "# Do something (water?) using OpenMM FFXML\n",
    "\n",
    "# Load something canned from AMBER or GROMACS\n",
    "\n",
    "# Prep a molecule with GAFF using openmoltools?\n",
    "\n",
    "## Probably should have some visualization, note that they can check these out using VMD?"
   ]
  },
  {
   "cell_type": "markdown",
   "metadata": {
    "slideshow": {
     "slide_type": "subslide"
    }
   },
   "source": [
    "## `Simulation`: The system, topology, and positions you're simulating, under what conditions\n",
    "- Could be for energy minimization, or different types of dynamics\n",
    "- Has an integrator attached (even if just minimizing), including temperature\n",
    "- `context` -- including positions, periodic box if applicable, etc.\n",
    "- If dynamics, has:\n",
    "  - timestep\n",
    "  - velocities\n",
    "- potentially also has reporters which store properties like energies, trajectory snapshots, etc."
   ]
  },
  {
   "cell_type": "code",
   "execution_count": 3,
   "metadata": {
    "slideshow": {
     "slide_type": "subslide"
    }
   },
   "outputs": [],
   "source": [
    "# Show an example energy minimization of one of the systems considered above"
   ]
  },
  {
   "cell_type": "markdown",
   "metadata": {
    "slideshow": {
     "slide_type": "slide"
    }
   },
   "source": [
    "# A simple example of a density calculation which stops when converged\n"
   ]
  },
  {
   "cell_type": "code",
   "execution_count": 1,
   "metadata": {},
   "outputs": [
    {
     "name": "stdout",
     "output_type": "stream",
     "text": [
      "\n",
      "WARNING: component name not provided; label will be used as component name\n",
      "\n",
      "\n",
      "WARNING: component name not provided; label will be used as component name\n",
      "\n",
      "\n",
      "WARNING: component name not provided; label will be used as component name\n",
      "\n"
     ]
    },
    {
     "name": "stderr",
     "output_type": "stream",
     "text": [
      "/Users/dmobley/anaconda3/envs/workshop_test/lib/python3.6/site-packages/pandas/io/parsers.py:2218: FutureWarning: split() requires a non-empty pattern match.\n",
      "  yield pat.split(line.strip())\n",
      "/Users/dmobley/anaconda3/envs/workshop_test/lib/python3.6/site-packages/pandas/io/parsers.py:2220: FutureWarning: split() requires a non-empty pattern match.\n",
      "  yield pat.split(line.strip())\n"
     ]
    },
    {
     "name": "stdout",
     "output_type": "stream",
     "text": [
      "\n",
      "# Mixture \n",
      "\n",
      "tolerance 2.000000\n",
      "filetype pdb\n",
      "output /var/folders/41/7d3rylg503n8nt_tn0hz6v8c0000gn/T/tmplloo4y8r/tmp27fos4rb.pdb\n",
      "add_amber_ter\n",
      "\n",
      "\n",
      "structure /var/folders/41/7d3rylg503n8nt_tn0hz6v8c0000gn/T/tmplloo4y8r/tmpo7tbdzr9.pdb\n",
      "  number 1 \n",
      "  inside box 0. 0. 0. 43.668714 43.668714 43.668714\n",
      "end structure\n",
      "\n",
      "structure /var/folders/41/7d3rylg503n8nt_tn0hz6v8c0000gn/T/tmplloo4y8r/tmpik9u18as.pdb\n",
      "  number 10 \n",
      "  inside box 0. 0. 0. 43.668714 43.668714 43.668714\n",
      "end structure\n",
      "\n",
      "structure /var/folders/41/7d3rylg503n8nt_tn0hz6v8c0000gn/T/tmplloo4y8r/tmp7pbd1ul8.pdb\n",
      "  number 500 \n",
      "  inside box 0. 0. 0. 43.668714 43.668714 43.668714\n",
      "end structure\n",
      "\n",
      "\n",
      "source leaprc.gaff\n",
      "source oldff/leaprc.ff99SB\n",
      "ZWD = loadmol2 in0.mol2\n",
      "ZEF = loadmol2 in1.mol2\n",
      "ZZW = loadmol2 in2.mol2\n",
      "box = loadPdb tbox.pdb\n",
      "loadamberparams in0.frcmod\n",
      "loadamberparams in1.frcmod\n",
      "loadamberparams in2.frcmod\n",
      "setbox box centers\n",
      "saveAmberParm box out.prmtop out.inpcrd\n",
      "quit\n",
      "\n"
     ]
    }
   ],
   "source": [
    "from solvationtoolkit.solvated_mixtures import *\n",
    "mixture = MixtureSystem('density/mixture')\n",
    "mixture.addComponent(label='phenol', smiles='c1ccc(cc1)O', number=1)\n",
    "mixture.addComponent(label='toluene', smiles='Cc1ccccc1', number=10)\n",
    "mixture.addComponent(label='cyclohexane', smiles='C1CCCCC1', number=500)\n",
    "#Generate output files for AMBER\n",
    "mixture.build(amber = True)"
   ]
  },
  {
   "cell_type": "markdown",
   "metadata": {},
   "source": [
    "## There's a script version of this which has equilibration, etc... deposited ..."
   ]
  },
  {
   "cell_type": "markdown",
   "metadata": {},
   "source": [
    "# Analyzing density results in this notebook"
   ]
  },
  {
   "cell_type": "markdown",
   "metadata": {},
   "source": [
    "# SMIRNOFF force fields, modifying the density calculation to use them"
   ]
  },
  {
   "cell_type": "code",
   "execution_count": 5,
   "metadata": {},
   "outputs": [],
   "source": [
    "import pandas"
   ]
  },
  {
   "cell_type": "code",
   "execution_count": null,
   "metadata": {},
   "outputs": [],
   "source": []
  }
 ],
 "metadata": {
  "celltoolbar": "Slideshow",
  "kernelspec": {
   "display_name": "Python [default]",
   "language": "python",
   "name": "python3"
  },
  "language_info": {
   "codemirror_mode": {
    "name": "ipython",
    "version": 3
   },
   "file_extension": ".py",
   "mimetype": "text/x-python",
   "name": "python",
   "nbconvert_exporter": "python",
   "pygments_lexer": "ipython3",
   "version": "3.6.3"
  },
  "livereveal": {
   "height": 900,
   "start_slideshow_at": "selected",
   "width": 1440
  },
  "toc": {
   "nav_menu": {},
   "number_sections": true,
   "sideBar": true,
   "skip_h1_title": false,
   "toc_cell": false,
   "toc_position": {},
   "toc_section_display": "block",
   "toc_window_display": false
  }
 },
 "nbformat": 4,
 "nbformat_minor": 2
}
