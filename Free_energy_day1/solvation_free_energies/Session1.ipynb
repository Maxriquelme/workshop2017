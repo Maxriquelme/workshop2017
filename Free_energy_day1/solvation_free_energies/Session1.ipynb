{
 "cells": [
  {
   "cell_type": "markdown",
   "metadata": {
    "slideshow": {
     "slide_type": "skip"
    }
   },
   "source": [
    "# Symposium on Molecular Interactions Tutorials\n",
    "## What is this?? \n",
    "This is a Jupyter notebook. It runs Python, but also allows it to be interspersed with Markdown-formatted text, for a nice mixture of documentation and code.\n",
    "\n",
    "The particular material below is Session 1 of the tutorials on free energy calculations and OpenMM, from Day 1 of the Symposium on Molecular Interactions (2017).\n",
    "\n",
    "This content is available on the [symposium github repository](https://github.com/QCMM/workshop2017) at [https://github.com/QCMM/workshop2017](https://github.com/QCMM/workshop2017).\n",
    "\n",
    "This material is a set of slides intended for presentation with RISE (for presentations from Jupyter notebooks). While it may be useful without RISE, it will also likely appear somewhat less verbose than it would if it were intended for use in written form.\n",
    "\n",
    "## Authors/sources/acknowledgments\n",
    "Author: David L. Mobley (UCI)\n",
    "\n",
    "### Sources\n",
    "- Much of content adapted from materials I have developed or am developing for my [Drug Discovery Computing Techniques class](https://github.com/mobleylab/drug-computing).\n",
    "\n",
    "### Acknowledgments\n",
    "- John Chodera and Nathan Lim for help with OpenMM\n",
    "- OpenEye for help with OpenEye software, especially James Haigh"
   ]
  },
  {
   "cell_type": "markdown",
   "metadata": {
    "slideshow": {
     "slide_type": "subslide"
    }
   },
   "source": [
    "# Before we get going, pick your favorite molecule and start a hydration free energy calculation\n",
    "\n",
    "- Navigate to `solvation_free_energies` under workshop material\n",
    "- Type `python run_hydration.py --name=yourmoleculename` or `python run_hydration.py --smiles=SMILES` to start an implicit solvent hydration free energy calculation; replace `yourmoleculename` with an IUPAC name of your favorite small, fairly rigid molecule (e.g. phenol) or `SMILES` with a SMILES string\n",
    "- Let's have a volunteer (or two) for each of these FreeSolv compounds: phenol, toluene, cyclohexane, propanethiol, pentan-3-one, nitromethane, nonane, 1,4-dichlorobenzene\n",
    "- We'll analyze the results of this later\n"
   ]
  },
  {
   "cell_type": "markdown",
   "metadata": {
    "slideshow": {
     "slide_type": "subslide"
    }
   },
   "source": [
    "\n",
    "Aside: I'll assume throughout that you know how to navigate the command prompt, open and edit text files, etc. If not, (such as due to unfamiliarity with the OS) please ask us for help."
   ]
  },
  {
   "cell_type": "markdown",
   "metadata": {
    "slideshow": {
     "slide_type": "slide"
    }
   },
   "source": [
    "# Outline of this afternoon's first session\n",
    "1. Orientation about GitHub\n",
    "2. Preparing and working with small molecules/organic molecules\n",
    "3. About that hydration free energy calculation...\n",
    "4. Analysis of a hydration calculation\n",
    "5. How to know if your results are in good shape\n",
    "\n",
    "**To follow along**/run code: Open this Jupyter notebook in `solvation_free_energies/Session1.ipynb` via `jupyter notebook Session1.ipynb`. (See [prerequisites](../prerequisites.md) if you aren't using preinstalled software.)\n"
   ]
  },
  {
   "cell_type": "markdown",
   "metadata": {
    "slideshow": {
     "slide_type": "slide"
    }
   },
   "source": [
    "# Orientation/about GitHub\n",
    "\n",
    "- This material is [on GitHub](https://github.com/QCMM/workshop2017)\n",
    "- You should have a copy of it on your computer\n",
    "- If not, you can get it at [https://github.com/QCMM/workshop2017](https://github.com/QCMM/workshop2017), and it can be useful to browse the web interface for reference/documentation.\n",
    "- To get a copy, visit the GitHub repo:"
   ]
  },
  {
   "cell_type": "markdown",
   "metadata": {
    "slideshow": {
     "slide_type": "subslide"
    }
   },
   "source": [
    "## Copy Git link from \"clone or download\" then retrieve on your computer\n",
    "\n",
    "If you don't already have it, copy the below link, then `git clone https://github.com/QCMM/workshop2017.git` on your computer, then `cd workshop2017`. Updates can be retrieved by `git pull origin master`.\n",
    "\n",
    "<img src=\"images/github_use.png\" alt=\"GitHub\" style=\"width: 1000px;\" align=\"right\"/>\n",
    "\n"
   ]
  },
  {
   "cell_type": "markdown",
   "metadata": {
    "slideshow": {
     "slide_type": "slide"
    }
   },
   "source": [
    "# Working with small molecules/organic molecules\n",
    "\n",
    "- MD packages tend not to \"know chemistry\", just biopolymers\n",
    "- So you need a chemistry toolkit\n",
    "- We'll use the OpenEye toolkits here a lot (great tools, free academic license available)\n",
    "- RDKit is an open alternative\n",
    "\n",
    "In the context of free energy calculations, you need a chemistry toolkit to help you set up the molecules you want, assign partial charges, handle symmetries, etc. \n",
    "\n",
    "Yank, the code you used above, uses OpenEye toolkits to handle chemistry so it can handle various inputs. But what if you want to prepare your own?"
   ]
  },
  {
   "cell_type": "markdown",
   "metadata": {
    "slideshow": {
     "slide_type": "subslide"
    }
   },
   "source": [
    "## Let's start with molecule generation from [SMILES](https://en.wikipedia.org/wiki/Simplified_molecular-input_line-entry_system)"
   ]
  },
  {
   "cell_type": "code",
   "execution_count": 1,
   "metadata": {
    "slideshow": {
     "slide_type": "fragment"
    }
   },
   "outputs": [
    {
     "name": "stdout",
     "output_type": "stream",
     "text": [
      "Is your OEChem licensed? True\n"
     ]
    }
   ],
   "source": [
    "# Import OpenEye toolkits we need \n",
    "from openeye.oechem import * #General chemistry toolkit\n",
    "from openeye.oeiupac import * #For working with molecule names\n",
    "import oenotebook as oenb # Handy OpenEye plugins for Jupyter notebooks\n",
    "print(\"Is your OEChem licensed?\", oechem.OEChemIsLicensed()) #Check it's working!"
   ]
  },
  {
   "cell_type": "code",
   "execution_count": 2,
   "metadata": {
    "slideshow": {
     "slide_type": "fragment"
    }
   },
   "outputs": [
    {
     "data": {
      "image/png": "[encoded data removed]",
      "text/plain": [
       "<IPython.core.display.Image object>"
      ]
     },
     "execution_count": 2,
     "metadata": {},
     "output_type": "execute_result"
    }
   ],
   "source": [
    "# Create a basic OpenEye molecule\n",
    "mol = OEMol()\n",
    "\n",
    "# Parse a SMILES string to this molecule\n",
    "oechem.OESmilesToMol(mol, 'OC(CC1CCCC1)=O')\n",
    "\n",
    "# Depict!\n",
    "oenb.draw_mol(mol)"
   ]
  },
  {
   "cell_type": "markdown",
   "metadata": {
    "slideshow": {
     "slide_type": "slide"
    }
   },
   "source": [
    "## Molecule generation from IUPAC names"
   ]
  },
  {
   "cell_type": "code",
   "execution_count": 3,
   "metadata": {
    "slideshow": {
     "slide_type": "fragment"
    }
   },
   "outputs": [
    {
     "data": {
      "image/png": "[encoded data removed]",
      "text/plain": [
       "<IPython.core.display.Image object>"
      ]
     },
     "execution_count": 3,
     "metadata": {},
     "output_type": "execute_result"
    }
   ],
   "source": [
    "# Generate new molecule\n",
    "mol_from_name = OEMol()\n",
    "\n",
    "# Store a name\n",
    "mol_name = '1-chloro-6-methylnaphthalene'\n",
    "\n",
    "#Parse name\n",
    "OEParseIUPACName(mol_from_name, mol_name)\n",
    "\n",
    "#Depict\n",
    "oenb.draw_mol(mol_from_name)"
   ]
  },
  {
   "cell_type": "code",
   "execution_count": 4,
   "metadata": {
    "slideshow": {
     "slide_type": "fragment"
    }
   },
   "outputs": [
    {
     "name": "stdout",
     "output_type": "stream",
     "text": [
      "Cc1ccc2c(c1)cccc2Cl\n"
     ]
    }
   ],
   "source": [
    "# OK, but maybe I LIKE SMILES\n",
    "print(OECreateIsoSmiString(mol_from_name))"
   ]
  },
  {
   "cell_type": "markdown",
   "metadata": {
    "slideshow": {
     "slide_type": "slide"
    }
   },
   "source": [
    "## Conformer generation: If you're going to use it in a simulation, you need 3D\n",
    "\n",
    "`Omega` is the OpenEye conformer-generation toolkit; very focused on organics, but quite good and fast.\n",
    "Aims at generating reasonably-likely solution-phase conformers, NOT at predicting THE conformation. Tends to be quite good at generating conformers near likely minima."
   ]
  },
  {
   "cell_type": "code",
   "execution_count": 5,
   "metadata": {
    "slideshow": {
     "slide_type": "fragment"
    }
   },
   "outputs": [
    {
     "name": "stdout",
     "output_type": "stream",
     "text": [
      "Number of atoms before conformer generation (heavy atoms only):  9\n",
      "Number of atoms after conformer generation (includes hydroges):  21\n"
     ]
    }
   ],
   "source": [
    "from openeye.oeomega import *\n",
    "omega = OEOmega() #initialize class\n",
    "omega.SetMaxConfs(1) # Only generate one for now\n",
    "\n",
    "print(\"Number of atoms before conformer generation (heavy atoms only): \", mol.NumAtoms())\n",
    "omega(mol)\n",
    "print(\"Number of atoms after conformer generation (includes hydroges): \", mol.NumAtoms())"
   ]
  },
  {
   "cell_type": "markdown",
   "metadata": {
    "slideshow": {
     "slide_type": "slide"
    }
   },
   "source": [
    "## Partial charge assignment\n",
    "\n",
    "Often, QM calculations are used to assign partial charges for molecules. However, AM1-BCC charges see widespread use as they are fit to be similar to HF/6-31G* RESP charges used for many FFs when originally developed (such as AMBER).\n",
    "OpenEye tools provide an easy interface to claculate these"
   ]
  },
  {
   "cell_type": "code",
   "execution_count": 6,
   "metadata": {
    "slideshow": {
     "slide_type": "fragment"
    }
   },
   "outputs": [
    {
     "data": {
      "text/plain": [
       "True"
      ]
     },
     "execution_count": 6,
     "metadata": {},
     "output_type": "execute_result"
    }
   ],
   "source": [
    "from openeye.oequacpac import * #quacpac has tools for working with charges, tautomers, etc.\n",
    "\n",
    "#Initialize charge generation\n",
    "chargeEngine = OEAM1BCCCharges()\n",
    "\n",
    "# Set to use a simple neutral pH model; will make some attempt to pick a protonation state reasonably likely at \n",
    "# neutral pH (not accurate)\n",
    "OESetNeutralpHModel(mol)\n",
    "\n",
    "# Generate charges\n",
    "OEAssignCharges(mol, chargeEngine)"
   ]
  },
  {
   "cell_type": "markdown",
   "metadata": {
    "slideshow": {
     "slide_type": "slide"
    }
   },
   "source": [
    "## Looping over atoms and getting properties"
   ]
  },
  {
   "cell_type": "code",
   "execution_count": 7,
   "metadata": {
    "slideshow": {
     "slide_type": "fragment"
    }
   },
   "outputs": [
    {
     "name": "stdout",
     "output_type": "stream",
     "text": [
      "Name: C1, formal charge: 0, partial charge 0.91\n",
      "Name: C2, formal charge: 0, partial charge -0.0773\n",
      "Name: C3, formal charge: 0, partial charge -0.0773\n",
      "Name: C4, formal charge: 0, partial charge -0.0784\n",
      "Name: C5, formal charge: 0, partial charge -0.0784\n",
      "Name: C6, formal charge: 0, partial charge -0.0482\n",
      "Name: C7, formal charge: 0, partial charge -0.189\n",
      "Name: O1, formal charge: 0, partial charge -0.852\n",
      "Name: O2, formal charge: -1, partial charge -0.852\n"
     ]
    }
   ],
   "source": [
    "# One can easily loop over atoms and get various properties\n",
    "OETriposAtomNames(mol) #Assign names so the atoms will have useful names\n",
    "\n",
    "# Loop over atoms\n",
    "for atom in mol.GetAtoms():\n",
    "    # Print some info for non-hydrogen atoms\n",
    "    if not atom.IsHydrogen():\n",
    "        print(\"Name: %s, formal charge: %d, partial charge %.3g\" % \n",
    "           (atom.GetName(), atom.GetFormalCharge(), atom.GetPartialCharge()))"
   ]
  },
  {
   "cell_type": "markdown",
   "metadata": {
    "slideshow": {
     "slide_type": "fragment"
    }
   },
   "source": [
    "You can loop over bonds, too. The [OpenEye documentation](https://docs.eyesopen.com) is good and complete."
   ]
  },
  {
   "cell_type": "markdown",
   "metadata": {
    "slideshow": {
     "slide_type": "slide"
    }
   },
   "source": [
    "## File I/O\n",
    "\n",
    "OpenEye supports reading to/writing from a pretty significant number of file formats; 30K+ lines of code, but all you need to know is:"
   ]
  },
  {
   "cell_type": "code",
   "execution_count": 8,
   "metadata": {
    "slideshow": {
     "slide_type": "fragment"
    }
   },
   "outputs": [
    {
     "name": "stdout",
     "output_type": "stream",
     "text": [
      "13\n"
     ]
    }
   ],
   "source": [
    "# Generate new molecule\n",
    "new_molecule = OEMol()\n",
    "# Open input stream\n",
    "ifile = oemolistream('sample_files/mobley_20524.mol2')\n",
    "\n",
    "# Read molecule\n",
    "OEReadMolecule(ifile, new_molecule)\n",
    "print(new_molecule.NumAtoms())\n",
    "# Close inputstream\n",
    "ifile.close()"
   ]
  },
  {
   "cell_type": "code",
   "execution_count": 9,
   "metadata": {
    "slideshow": {
     "slide_type": "subslide"
    }
   },
   "outputs": [],
   "source": [
    "# Write out to another file format - try picking YOUR favorite for fun.\n",
    "\n",
    "# Open ouput stream\n",
    "ofile = oemolostream('sample_files/mobley_20524.pdb')\n",
    "OEWriteMolecule(ofile, new_molecule)\n",
    "ofile.close()"
   ]
  },
  {
   "cell_type": "code",
   "execution_count": 10,
   "metadata": {
    "slideshow": {
     "slide_type": "subslide"
    }
   },
   "outputs": [
    {
     "name": "stderr",
     "output_type": "stream",
     "text": [
      "/Users/dmobley/anaconda3/envs/workshop_test/lib/python3.6/site-packages/pandas/io/parsers.py:2218: FutureWarning: split() requires a non-empty pattern match.\n",
      "  yield pat.split(line.strip())\n",
      "/Users/dmobley/anaconda3/envs/workshop_test/lib/python3.6/site-packages/pandas/io/parsers.py:2220: FutureWarning: split() requires a non-empty pattern match.\n",
      "  yield pat.split(line.strip())\n"
     ]
    },
    {
     "data": {
      "application/vnd.jupyter.widget-view+json": {
       "model_id": "a9da005ffec14de4a2a15b9e71073f5b",
       "version_major": 2,
       "version_minor": 0
      },
      "text/html": [
       "<p>Failed to display Jupyter Widget of type <code>NGLWidget</code>.</p>\n",
       "<p>\n",
       "  If you're reading this message in the Jupyter Notebook or JupyterLab Notebook, it may mean\n",
       "  that the widgets JavaScript is still loading. If this message persists, it\n",
       "  likely means that the widgets JavaScript library is either not installed or\n",
       "  not enabled. See the <a href=\"https://ipywidgets.readthedocs.io/en/stable/user_install.html\">Jupyter\n",
       "  Widgets Documentation</a> for setup instructions.\n",
       "</p>\n",
       "<p>\n",
       "  If you're reading this message in another frontend (for example, a static\n",
       "  rendering on GitHub or <a href=\"https://nbviewer.jupyter.org/\">NBViewer</a>),\n",
       "  it may mean that your frontend doesn't currently support widgets.\n",
       "</p>\n"
      ],
      "text/plain": [
       "NGLWidget()"
      ]
     },
     "metadata": {},
     "output_type": "display_data"
    }
   ],
   "source": [
    "# If you have nglview installed, you should be able to visualize inline using MDTraj and nglview.\n",
    "# An alternative is to drop out and use VMD.\n",
    "import nglview\n",
    "import mdtraj\n",
    "\n",
    "# Load file\n",
    "traj = mdtraj.load('sample_files/mobley_20524.mol2')\n",
    "\n",
    "# View using nglview\n",
    "view = nglview.show_mdtraj(traj)\n",
    "view"
   ]
  },
  {
   "cell_type": "markdown",
   "metadata": {
    "slideshow": {
     "slide_type": "skip"
    }
   },
   "source": [
    "## Common gotchas/things to watch out for\n",
    "\n",
    "- PDB file loads\n",
    "- unspecified stereochemistry\n",
    "- isomeric SMILES/canonical SMILES (stereochemistry is important!)\n",
    "- ambiguous IUPAC names\n",
    "- file names: Don't use molecule names (which can contain commas, italics, and various special characters) as file names\n",
    "- IUPAC is just not a good representation; for general molecule identifiers, use SMILES or mol2 files."
   ]
  },
  {
   "cell_type": "markdown",
   "metadata": {
    "slideshow": {
     "slide_type": "slide"
    }
   },
   "source": [
    "# About that hydration free energy calculation: It's using [Yank](http://getyank.org/latest/)...\n",
    "\n",
    "- OpenMM-based package for free energy calculations\n",
    "- OpenMM: More a simulation toolkit than a package (see Session 2)\n",
    "- Binding free energy calculations, solvatio free energy calculations\n",
    "- `run_hydration.py` just an even-simpler command-line interface to Yank's command-line or python interfaces\n",
    "- We'll take a look at what it's doing\n",
    "\n",
    "Check out `run_hydration.py`, e.g. with `vi run_hydration.py`"
   ]
  },
  {
   "cell_type": "markdown",
   "metadata": {
    "slideshow": {
     "slide_type": "slide"
    }
   },
   "source": [
    "## Yank uses a flexible YAML syntax for input files/input instructions\n",
    "\n",
    "\n",
    "<img src=\"images/yaml1.png\" alt=\"GitHub\" style=\"width: 1000px;\" align=\"right\"/>\n",
    "The [YAML cookbook](http://getyank.org/latest/yamlpages/cookbook.html) provides a good entry point (concrete examples). Here's some of ours:\n"
   ]
  },
  {
   "cell_type": "markdown",
   "metadata": {
    "slideshow": {
     "slide_type": "notes"
    }
   },
   "source": [
    "- Many self-explanatory\n",
    "- [options](http://getyank.org/latest/yamlpages/options.html) gives basic simulation options\n",
    "    - include how often (in steps) to write checkpoint files, whether or not to write data for resuming, the number of iterations to run, the timestep, etc.\n",
    "    - Hamiltonian replica exchange simulations, hence \"iterations\"\n",
    "- `anisotropic_dispersion_cutoff`: Compute and include anisotropic dispersion correction for cutoff long range dispersion interactions past this cutoff.\n",
    "- [molecules](http://getyank.org/latest/yamlpages/molecules.html) can be from `filepath` (SDF, PDB, mol2, .csv (SMILES)),  `smiles`, or `name` (IUPAC name)\n",
    "    - Defines what molecules used in your systems\n",
    "    - Built whether or not they are used"
   ]
  },
  {
   "cell_type": "markdown",
   "metadata": {
    "slideshow": {
     "slide_type": "subslide"
    }
   },
   "source": [
    "### More of that YAML file:\n",
    "\n",
    "<img src=\"images/yaml2.png\" alt=\"YAML\" style=\"width: 1000px;\" align=\"right\"/>"
   ]
  },
  {
   "cell_type": "markdown",
   "metadata": {
    "slideshow": {
     "slide_type": "notes"
    }
   },
   "source": [
    "- [solvents](http://getyank.org/latest/yamlpages/solvents.html): Specifies what solvents are available, including vacuum\n",
    "- Here, defines TIP3P, GBSA (OBC2 GBSA model), vacuum\n",
    "- [systems](http://getyank.org/latest/yamlpages/systems.html): Specifies what systems (`molecules` plus `solvents`) are to be prepared, with user-defined names\n",
    "- Here, provides names of AMBER parameter files to use in setting up system (solvent, protein (not present here), small molecules)\n",
    "- Uses GAFF small molecule force field"
   ]
  },
  {
   "cell_type": "markdown",
   "metadata": {
    "slideshow": {
     "slide_type": "subslide"
    }
   },
   "source": [
    "###  Protocols: $\\lambda$ schedule for potential protocols\n",
    "\n",
    "<img src=\"images/yaml3.png\" alt=\"YAML\" style=\"width: 1400px;\" align=\"right\"/>"
   ]
  },
  {
   "cell_type": "markdown",
   "metadata": {
    "slideshow": {
     "slide_type": "notes"
    }
   },
   "source": [
    "- [protocols](http://getyank.org/latest/yamlpages/protocols.html): Defines what alchemical path to follow\n",
    "- Several protocols can be specified with different names\n",
    "- Here we follow typical protocols from [alchemistry.org](http://alchemistry.org) -- first turn off charges, then steric interactions\n",
    "- Depending on whether solvent is present or not we can use different $\\lambda$ spacing and number of $\\lambda$ values\n",
    "- In some cases an `auto` path determination may be useful (and is available)"
   ]
  },
  {
   "cell_type": "markdown",
   "metadata": {},
   "source": [
    "### Final phase: What experiments are you running?\n",
    "\n",
    "<img src=\"images/yaml4.png\" alt=\"YAML\" style=\"width: 1400px;\" align=\"right\"/>\n",
    "\n",
    "Here, a command-line option switches between implicit and explicit solvent protocols, on the `hydration` system, which uses TIP3P or GBSA implicit solvent depending on the command-line option.\n",
    "\n",
    "What you ran was in GBSA implicit solvent."
   ]
  },
  {
   "cell_type": "markdown",
   "metadata": {
    "slideshow": {
     "slide_type": "notes"
    }
   },
   "source": [
    "- [experiments](http://getyank.org/latest/yamlpages/experiments.html) details what you actually run\n",
    "- you can configure multiple experiments at once\n",
    "- combinatorial experiments are also possible"
   ]
  },
  {
   "cell_type": "markdown",
   "metadata": {
    "slideshow": {
     "slide_type": "slide"
    }
   },
   "source": [
    "# Analyzing a hydration free energy calculation\n",
    "\n",
    "Basic analysis is done by `yank analyze -s data/experiments` or similar, where `data` is your output directory and your experiments are configured under `experiments`. Here:\n",
    "\n",
    "<img src=\"images/results.png\" alt=\"results\" style=\"width: 1400px;\" align=\"left\"/>\n",
    "\n",
    "This is an implicit solvent hydration calculation of phenol. Key value: $-5.971\\pm0.005$ kcal/mol, estimated via [MBAR](http://www.alchemistry.org/wiki/Multistate_Bennett_Acceptance_Ratio) ([`pymbar`](http://pymbar.readthedocs.io) Python package)"
   ]
  },
  {
   "cell_type": "markdown",
   "metadata": {
    "slideshow": {
     "slide_type": "subslide"
    }
   },
   "source": [
    "## You should be able to try analyzing yours now\n",
    "\n",
    "`yank analyze -s data/experiments`\n",
    "\n",
    "If it's still running, let's use sample data in this repository:\n",
    "- Extract sample_files/hydration.tar.gz (`tar -xvf hydration.tar.gz`)\n",
    "- `cd` there to the `hydration/hydration-out` directory\n",
    "- `yank analyze -s experiments`\n",
    "- Keep your value; I'll need it from you in a minute"
   ]
  },
  {
   "cell_type": "markdown",
   "metadata": {
    "slideshow": {
     "slide_type": "subslide"
    }
   },
   "source": [
    "## Let's analyze as a class and see how we do\n",
    "We'll try and make a graph of your results."
   ]
  },
  {
   "cell_type": "code",
   "execution_count": 11,
   "metadata": {
    "slideshow": {
     "slide_type": "fragment"
    }
   },
   "outputs": [],
   "source": [
    "# We'll load FreeSolv v0.52 into a Pandas dataframe\n",
    "import pandas as pd\n",
    "molecule_names = ['phenol', 'toluene', 'cyclohexane', 'propanethiol', 'pentan-3-one', 'nitromethane', 'nonane', '1,4-dichlorobenzene']\n",
    "freesolv = pd.read_json('sample_files/database.json', orient='index')\n",
    "\n",
    "# Load experimental values from FreeSolv\n",
    "expt_values = [ freesolv[freesolv.iupac==n].iloc[0]['expt'] for n in molecule_names ]\n",
    "\n",
    "# Load PREVIOUSLY calculated values from FreeSolv\n",
    "calc_values = [ freesolv[freesolv.iupac==n].iloc[0]['calc'] for n in molecule_names ]\n",
    "\n",
    "# Now we'll input your values here\n",
    "molecule_names = ['phenol', 'toluene', 'cyclohexane', 'propanethiol', 'pentan-3-one', 'nitromethane', 'nonane', '1,4-dichlorobenzene']\n",
    "#calc_values =   []"
   ]
  },
  {
   "cell_type": "code",
   "execution_count": 12,
   "metadata": {
    "slideshow": {
     "slide_type": "subslide"
    }
   },
   "outputs": [],
   "source": [
    "# Now we build a pandas dataframe of the molecules and data\n",
    "molecules = []\n",
    "for name in molecule_names:\n",
    "    mol = OEMol()\n",
    "    OEParseIUPACName(mol, name)\n",
    "    molecules.append(mol)\n",
    "\n",
    "# Put in a dataframe\n",
    "df = pd.DataFrame({ 'names': molecule_names,\n",
    "                    'Molecule': molecules,\n",
    "                    'DeltaG_calc': calc_values,\n",
    "                    'DeltaG_expt': expt_values\n",
    "})"
   ]
  },
  {
   "cell_type": "markdown",
   "metadata": {
    "slideshow": {
     "slide_type": "subslide"
    }
   },
   "source": [
    "## Now let's do a fancy plot\n",
    "\n",
    "If you want to plot this way, you'll need to install `bokeh`:\n",
    "- drop out to command-line\n",
    "- `conda install bokeh`\n",
    "- Go to kernel -> restart kernel\n",
    "- Re-run the imports at the top of the notebook and the \"let's analyze as a class\" downwards\n",
    "- Otherwise I give an alternate plot further down"
   ]
  },
  {
   "cell_type": "code",
   "execution_count": 13,
   "metadata": {
    "slideshow": {
     "slide_type": "subslide"
    }
   },
   "outputs": [
    {
     "data": {
      "text/html": [
       "\n",
       "    <div class=\"bk-root\">\n",
       "        <a href=\"https://bokeh.pydata.org\" target=\"_blank\" class=\"bk-logo bk-logo-small bk-logo-notebook\"></a>\n",
       "        <span id=\"84bf304a-7a6e-405c-ae2a-ab25ffaa6ce8\">Loading BokehJS ...</span>\n",
       "    </div>"
      ]
     },
     "metadata": {},
     "output_type": "display_data"
    },
    {
     "data": {
      "application/javascript": [
       "\n",
       "(function(root) {\n",
       "  function now() {\n",
       "    return new Date();\n",
       "  }\n",
       "\n",
       "  var force = true;\n",
       "\n",
       "  if (typeof (root._bokeh_onload_callbacks) === \"undefined\" || force === true) {\n",
       "    root._bokeh_onload_callbacks = [];\n",
       "    root._bokeh_is_loading = undefined;\n",
       "  }\n",
       "\n",
       "  var JS_MIME_TYPE = 'application/javascript';\n",
       "  var HTML_MIME_TYPE = 'text/html';\n",
       "  var EXEC_MIME_TYPE = 'application/vnd.bokehjs_exec.v0+json';\n",
       "  var CLASS_NAME = 'output_bokeh rendered_html';\n",
       "\n",
       "  /**\n",
       "   * Render data to the DOM node\n",
       "   */\n",
       "  function render(props, node) {\n",
       "    var script = document.createElement(\"script\");\n",
       "    node.appendChild(script);\n",
       "  }\n",
       "\n",
       "  /**\n",
       "   * Handle when an output is cleared or removed\n",
       "   */\n",
       "  function handleClearOutput(event, handle) {\n",
       "    var cell = handle.cell;\n",
       "\n",
       "    var id = cell.output_area._bokeh_element_id;\n",
       "    var server_id = cell.output_area._bokeh_server_id;\n",
       "    // Clean up Bokeh references\n",
       "    if (id !== undefined) {\n",
       "      Bokeh.index[id].model.document.clear();\n",
       "      delete Bokeh.index[id];\n",
       "    }\n",
       "\n",
       "    if (server_id !== undefined) {\n",
       "      // Clean up Bokeh references\n",
       "      var cmd = \"from bokeh.io.state import curstate; print(curstate().uuid_to_server['\" + server_id + \"'].get_sessions()[0].document.roots[0]._id)\";\n",
       "      cell.notebook.kernel.execute(cmd, {\n",
       "        iopub: {\n",
       "          output: function(msg) {\n",
       "            var element_id = msg.content.text.trim();\n",
       "            Bokeh.index[element_id].model.document.clear();\n",
       "            delete Bokeh.index[element_id];\n",
       "          }\n",
       "        }\n",
       "      });\n",
       "      // Destroy server and session\n",
       "      var cmd = \"import bokeh.io.notebook as ion; ion.destroy_server('\" + server_id + \"')\";\n",
       "      cell.notebook.kernel.execute(cmd);\n",
       "    }\n",
       "  }\n",
       "\n",
       "  /**\n",
       "   * Handle when a new output is added\n",
       "   */\n",
       "  function handleAddOutput(event, handle) {\n",
       "    var output_area = handle.output_area;\n",
       "    var output = handle.output;\n",
       "\n",
       "    // limit handleAddOutput to display_data with EXEC_MIME_TYPE content only\n",
       "    if ((output.output_type != \"display_data\") || (!output.data.hasOwnProperty(EXEC_MIME_TYPE))) {\n",
       "      return\n",
       "    }\n",
       "\n",
       "    var toinsert = output_area.element.find(\".\" + CLASS_NAME.split(' ')[0]);\n",
       "\n",
       "    if (output.metadata[EXEC_MIME_TYPE][\"id\"] !== undefined) {\n",
       "      toinsert[0].firstChild.textContent = output.data[JS_MIME_TYPE];\n",
       "      // store reference to embed id on output_area\n",
       "      output_area._bokeh_element_id = output.metadata[EXEC_MIME_TYPE][\"id\"];\n",
       "    }\n",
       "    if (output.metadata[EXEC_MIME_TYPE][\"server_id\"] !== undefined) {\n",
       "      var bk_div = document.createElement(\"div\");\n",
       "      bk_div.innerHTML = output.data[HTML_MIME_TYPE];\n",
       "      var script_attrs = bk_div.children[0].attributes;\n",
       "      for (var i = 0; i < script_attrs.length; i++) {\n",
       "        toinsert[0].firstChild.setAttribute(script_attrs[i].name, script_attrs[i].value);\n",
       "      }\n",
       "      // store reference to server id on output_area\n",
       "      output_area._bokeh_server_id = output.metadata[EXEC_MIME_TYPE][\"server_id\"];\n",
       "    }\n",
       "  }\n",
       "\n",
       "  function register_renderer(events, OutputArea) {\n",
       "\n",
       "    function append_mime(data, metadata, element) {\n",
       "      // create a DOM node to render to\n",
       "      var toinsert = this.create_output_subarea(\n",
       "        metadata,\n",
       "        CLASS_NAME,\n",
       "        EXEC_MIME_TYPE\n",
       "      );\n",
       "      this.keyboard_manager.register_events(toinsert);\n",
       "      // Render to node\n",
       "      var props = {data: data, metadata: metadata[EXEC_MIME_TYPE]};\n",
       "      render(props, toinsert[0]);\n",
       "      element.append(toinsert);\n",
       "      return toinsert\n",
       "    }\n",
       "\n",
       "    /* Handle when an output is cleared or removed */\n",
       "    events.on('clear_output.CodeCell', handleClearOutput);\n",
       "    events.on('delete.Cell', handleClearOutput);\n",
       "\n",
       "    /* Handle when a new output is added */\n",
       "    events.on('output_added.OutputArea', handleAddOutput);\n",
       "\n",
       "    /**\n",
       "     * Register the mime type and append_mime function with output_area\n",
       "     */\n",
       "    OutputArea.prototype.register_mime_type(EXEC_MIME_TYPE, append_mime, {\n",
       "      /* Is output safe? */\n",
       "      safe: true,\n",
       "      /* Index of renderer in `output_area.display_order` */\n",
       "      index: 0\n",
       "    });\n",
       "  }\n",
       "\n",
       "  // register the mime type if in Jupyter Notebook environment and previously unregistered\n",
       "  if (root.Jupyter !== undefined) {\n",
       "    var events = require('base/js/events');\n",
       "    var OutputArea = require('notebook/js/outputarea').OutputArea;\n",
       "\n",
       "    if (OutputArea.prototype.mime_types().indexOf(EXEC_MIME_TYPE) == -1) {\n",
       "      register_renderer(events, OutputArea);\n",
       "    }\n",
       "  }\n",
       "\n",
       "  \n",
       "  if (typeof (root._bokeh_timeout) === \"undefined\" || force === true) {\n",
       "    root._bokeh_timeout = Date.now() + 5000;\n",
       "    root._bokeh_failed_load = false;\n",
       "  }\n",
       "\n",
       "  var NB_LOAD_WARNING = {'data': {'text/html':\n",
       "     \"<div style='background-color: #fdd'>\\n\"+\n",
       "     \"<p>\\n\"+\n",
       "     \"BokehJS does not appear to have successfully loaded. If loading BokehJS from CDN, this \\n\"+\n",
       "     \"may be due to a slow or bad network connection. Possible fixes:\\n\"+\n",
       "     \"</p>\\n\"+\n",
       "     \"<ul>\\n\"+\n",
       "     \"<li>re-rerun `output_notebook()` to attempt to load from CDN again, or</li>\\n\"+\n",
       "     \"<li>use INLINE resources instead, as so:</li>\\n\"+\n",
       "     \"</ul>\\n\"+\n",
       "     \"<code>\\n\"+\n",
       "     \"from bokeh.resources import INLINE\\n\"+\n",
       "     \"output_notebook(resources=INLINE)\\n\"+\n",
       "     \"</code>\\n\"+\n",
       "     \"</div>\"}};\n",
       "\n",
       "  function display_loaded() {\n",
       "    var el = document.getElementById(\"84bf304a-7a6e-405c-ae2a-ab25ffaa6ce8\");\n",
       "    if (el != null) {\n",
       "      el.textContent = \"BokehJS is loading...\";\n",
       "    }\n",
       "    if (root.Bokeh !== undefined) {\n",
       "      if (el != null) {\n",
       "        el.textContent = \"BokehJS \" + root.Bokeh.version + \" successfully loaded.\";\n",
       "      }\n",
       "    } else if (Date.now() < root._bokeh_timeout) {\n",
       "      setTimeout(display_loaded, 100)\n",
       "    }\n",
       "  }\n",
       "\n",
       "\n",
       "  function run_callbacks() {\n",
       "    try {\n",
       "      root._bokeh_onload_callbacks.forEach(function(callback) { callback() });\n",
       "    }\n",
       "    finally {\n",
       "      delete root._bokeh_onload_callbacks\n",
       "    }\n",
       "    console.info(\"Bokeh: all callbacks have finished\");\n",
       "  }\n",
       "\n",
       "  function load_libs(js_urls, callback) {\n",
       "    root._bokeh_onload_callbacks.push(callback);\n",
       "    if (root._bokeh_is_loading > 0) {\n",
       "      console.log(\"Bokeh: BokehJS is being loaded, scheduling callback at\", now());\n",
       "      return null;\n",
       "    }\n",
       "    if (js_urls == null || js_urls.length === 0) {\n",
       "      run_callbacks();\n",
       "      return null;\n",
       "    }\n",
       "    console.log(\"Bokeh: BokehJS not loaded, scheduling load and callback at\", now());\n",
       "    root._bokeh_is_loading = js_urls.length;\n",
       "    for (var i = 0; i < js_urls.length; i++) {\n",
       "      var url = js_urls[i];\n",
       "      var s = document.createElement('script');\n",
       "      s.src = url;\n",
       "      s.async = false;\n",
       "      s.onreadystatechange = s.onload = function() {\n",
       "        root._bokeh_is_loading--;\n",
       "        if (root._bokeh_is_loading === 0) {\n",
       "          console.log(\"Bokeh: all BokehJS libraries loaded\");\n",
       "          run_callbacks()\n",
       "        }\n",
       "      };\n",
       "      s.onerror = function() {\n",
       "        console.warn(\"failed to load library \" + url);\n",
       "      };\n",
       "      console.log(\"Bokeh: injecting script tag for BokehJS library: \", url);\n",
       "      document.getElementsByTagName(\"head\")[0].appendChild(s);\n",
       "    }\n",
       "  };var element = document.getElementById(\"84bf304a-7a6e-405c-ae2a-ab25ffaa6ce8\");\n",
       "  if (element == null) {\n",
       "    console.log(\"Bokeh: ERROR: autoload.js configured with elementid '84bf304a-7a6e-405c-ae2a-ab25ffaa6ce8' but no matching script tag was found. \")\n",
       "    return false;\n",
       "  }\n",
       "\n",
       "  var js_urls = [\"https://cdn.pydata.org/bokeh/release/bokeh-0.12.11.min.js\", \"https://cdn.pydata.org/bokeh/release/bokeh-widgets-0.12.11.min.js\", \"https://cdn.pydata.org/bokeh/release/bokeh-tables-0.12.11.min.js\", \"https://cdn.pydata.org/bokeh/release/bokeh-gl-0.12.11.min.js\"];\n",
       "\n",
       "  var inline_js = [\n",
       "    function(Bokeh) {\n",
       "      Bokeh.set_log_level(\"info\");\n",
       "    },\n",
       "    \n",
       "    function(Bokeh) {\n",
       "      \n",
       "    },\n",
       "    function(Bokeh) {\n",
       "      console.log(\"Bokeh: injecting CSS: https://cdn.pydata.org/bokeh/release/bokeh-0.12.11.min.css\");\n",
       "      Bokeh.embed.inject_css(\"https://cdn.pydata.org/bokeh/release/bokeh-0.12.11.min.css\");\n",
       "      console.log(\"Bokeh: injecting CSS: https://cdn.pydata.org/bokeh/release/bokeh-widgets-0.12.11.min.css\");\n",
       "      Bokeh.embed.inject_css(\"https://cdn.pydata.org/bokeh/release/bokeh-widgets-0.12.11.min.css\");\n",
       "      console.log(\"Bokeh: injecting CSS: https://cdn.pydata.org/bokeh/release/bokeh-tables-0.12.11.min.css\");\n",
       "      Bokeh.embed.inject_css(\"https://cdn.pydata.org/bokeh/release/bokeh-tables-0.12.11.min.css\");\n",
       "    }\n",
       "  ];\n",
       "\n",
       "  function run_inline_js() {\n",
       "    \n",
       "    if ((root.Bokeh !== undefined) || (force === true)) {\n",
       "      for (var i = 0; i < inline_js.length; i++) {\n",
       "        inline_js[i].call(root, root.Bokeh);\n",
       "      }if (force === true) {\n",
       "        display_loaded();\n",
       "      }} else if (Date.now() < root._bokeh_timeout) {\n",
       "      setTimeout(run_inline_js, 100);\n",
       "    } else if (!root._bokeh_failed_load) {\n",
       "      console.log(\"Bokeh: BokehJS failed to load within specified timeout.\");\n",
       "      root._bokeh_failed_load = true;\n",
       "    } else if (force !== true) {\n",
       "      var cell = $(document.getElementById(\"84bf304a-7a6e-405c-ae2a-ab25ffaa6ce8\")).parents('.cell').data().cell;\n",
       "      cell.output_area.append_execute_result(NB_LOAD_WARNING)\n",
       "    }\n",
       "\n",
       "  }\n",
       "\n",
       "  if (root._bokeh_is_loading === 0) {\n",
       "    console.log(\"Bokeh: BokehJS loaded, going straight to plotting\");\n",
       "    run_inline_js();\n",
       "  } else {\n",
       "    load_libs(js_urls, function() {\n",
       "      console.log(\"Bokeh: BokehJS plotting callback run at\", now());\n",
       "      run_inline_js();\n",
       "    });\n",
       "  }\n",
       "}(window));"
      ],
      "application/vnd.bokehjs_load.v0+json": "\n(function(root) {\n  function now() {\n    return new Date();\n  }\n\n  var force = true;\n\n  if (typeof (root._bokeh_onload_callbacks) === \"undefined\" || force === true) {\n    root._bokeh_onload_callbacks = [];\n    root._bokeh_is_loading = undefined;\n  }\n\n  \n\n  \n  if (typeof (root._bokeh_timeout) === \"undefined\" || force === true) {\n    root._bokeh_timeout = Date.now() + 5000;\n    root._bokeh_failed_load = false;\n  }\n\n  var NB_LOAD_WARNING = {'data': {'text/html':\n     \"<div style='background-color: #fdd'>\\n\"+\n     \"<p>\\n\"+\n     \"BokehJS does not appear to have successfully loaded. If loading BokehJS from CDN, this \\n\"+\n     \"may be due to a slow or bad network connection. Possible fixes:\\n\"+\n     \"</p>\\n\"+\n     \"<ul>\\n\"+\n     \"<li>re-rerun `output_notebook()` to attempt to load from CDN again, or</li>\\n\"+\n     \"<li>use INLINE resources instead, as so:</li>\\n\"+\n     \"</ul>\\n\"+\n     \"<code>\\n\"+\n     \"from bokeh.resources import INLINE\\n\"+\n     \"output_notebook(resources=INLINE)\\n\"+\n     \"</code>\\n\"+\n     \"</div>\"}};\n\n  function display_loaded() {\n    var el = document.getElementById(\"84bf304a-7a6e-405c-ae2a-ab25ffaa6ce8\");\n    if (el != null) {\n      el.textContent = \"BokehJS is loading...\";\n    }\n    if (root.Bokeh !== undefined) {\n      if (el != null) {\n        el.textContent = \"BokehJS \" + root.Bokeh.version + \" successfully loaded.\";\n      }\n    } else if (Date.now() < root._bokeh_timeout) {\n      setTimeout(display_loaded, 100)\n    }\n  }\n\n\n  function run_callbacks() {\n    try {\n      root._bokeh_onload_callbacks.forEach(function(callback) { callback() });\n    }\n    finally {\n      delete root._bokeh_onload_callbacks\n    }\n    console.info(\"Bokeh: all callbacks have finished\");\n  }\n\n  function load_libs(js_urls, callback) {\n    root._bokeh_onload_callbacks.push(callback);\n    if (root._bokeh_is_loading > 0) {\n      console.log(\"Bokeh: BokehJS is being loaded, scheduling callback at\", now());\n      return null;\n    }\n    if (js_urls == null || js_urls.length === 0) {\n      run_callbacks();\n      return null;\n    }\n    console.log(\"Bokeh: BokehJS not loaded, scheduling load and callback at\", now());\n    root._bokeh_is_loading = js_urls.length;\n    for (var i = 0; i < js_urls.length; i++) {\n      var url = js_urls[i];\n      var s = document.createElement('script');\n      s.src = url;\n      s.async = false;\n      s.onreadystatechange = s.onload = function() {\n        root._bokeh_is_loading--;\n        if (root._bokeh_is_loading === 0) {\n          console.log(\"Bokeh: all BokehJS libraries loaded\");\n          run_callbacks()\n        }\n      };\n      s.onerror = function() {\n        console.warn(\"failed to load library \" + url);\n      };\n      console.log(\"Bokeh: injecting script tag for BokehJS library: \", url);\n      document.getElementsByTagName(\"head\")[0].appendChild(s);\n    }\n  };var element = document.getElementById(\"84bf304a-7a6e-405c-ae2a-ab25ffaa6ce8\");\n  if (element == null) {\n    console.log(\"Bokeh: ERROR: autoload.js configured with elementid '84bf304a-7a6e-405c-ae2a-ab25ffaa6ce8' but no matching script tag was found. \")\n    return false;\n  }\n\n  var js_urls = [\"https://cdn.pydata.org/bokeh/release/bokeh-0.12.11.min.js\", \"https://cdn.pydata.org/bokeh/release/bokeh-widgets-0.12.11.min.js\", \"https://cdn.pydata.org/bokeh/release/bokeh-tables-0.12.11.min.js\", \"https://cdn.pydata.org/bokeh/release/bokeh-gl-0.12.11.min.js\"];\n\n  var inline_js = [\n    function(Bokeh) {\n      Bokeh.set_log_level(\"info\");\n    },\n    \n    function(Bokeh) {\n      \n    },\n    function(Bokeh) {\n      console.log(\"Bokeh: injecting CSS: https://cdn.pydata.org/bokeh/release/bokeh-0.12.11.min.css\");\n      Bokeh.embed.inject_css(\"https://cdn.pydata.org/bokeh/release/bokeh-0.12.11.min.css\");\n      console.log(\"Bokeh: injecting CSS: https://cdn.pydata.org/bokeh/release/bokeh-widgets-0.12.11.min.css\");\n      Bokeh.embed.inject_css(\"https://cdn.pydata.org/bokeh/release/bokeh-widgets-0.12.11.min.css\");\n      console.log(\"Bokeh: injecting CSS: https://cdn.pydata.org/bokeh/release/bokeh-tables-0.12.11.min.css\");\n      Bokeh.embed.inject_css(\"https://cdn.pydata.org/bokeh/release/bokeh-tables-0.12.11.min.css\");\n    }\n  ];\n\n  function run_inline_js() {\n    \n    if ((root.Bokeh !== undefined) || (force === true)) {\n      for (var i = 0; i < inline_js.length; i++) {\n        inline_js[i].call(root, root.Bokeh);\n      }if (force === true) {\n        display_loaded();\n      }} else if (Date.now() < root._bokeh_timeout) {\n      setTimeout(run_inline_js, 100);\n    } else if (!root._bokeh_failed_load) {\n      console.log(\"Bokeh: BokehJS failed to load within specified timeout.\");\n      root._bokeh_failed_load = true;\n    } else if (force !== true) {\n      var cell = $(document.getElementById(\"84bf304a-7a6e-405c-ae2a-ab25ffaa6ce8\")).parents('.cell').data().cell;\n      cell.output_area.append_execute_result(NB_LOAD_WARNING)\n    }\n\n  }\n\n  if (root._bokeh_is_loading === 0) {\n    console.log(\"Bokeh: BokehJS loaded, going straight to plotting\");\n    run_inline_js();\n  } else {\n    load_libs(js_urls, function() {\n      console.log(\"Bokeh: BokehJS plotting callback run at\", now());\n      run_inline_js();\n    });\n  }\n}(window));"
     },
     "metadata": {},
     "output_type": "display_data"
    }
   ],
   "source": [
    "# This draws on http://notebooks.eyesopen.com/molecule-plots.html\n",
    "from bokeh.plotting import figure, show, output_file, ColumnDataSource\n",
    "from bokeh.io import output_notebook\n",
    "from bokeh.models import HoverTool, Callback\n",
    "from collections import OrderedDict\n",
    "\n",
    "# Configure default tools for plots\n",
    "TOOLS = 'box_zoom,box_select,reset,save'\n",
    "\n",
    "# Configure for output in the notebook\n",
    "output_notebook()\n",
    "\n",
    "\n",
    "# Store data in a bokeh object data object and add images\n",
    "source = ColumnDataSource(df.drop(\"Molecule\",axis=1))\n",
    "source.add(df.Molecule.apply(lambda x: oenb.draw_mol_to_html(x,300,200)),name=\"img\")\n",
    "\n",
    "p = figure(title=\"Molecule\", tools=TOOLS)\n",
    "p.xaxis.axis_label = 'DeltaG_calc'\n",
    "p.yaxis.axis_label = 'DeltaG_expt'\n",
    "\n",
    "# Make scatterplot\n",
    "p.circle(\"DeltaG_calc\", \"DeltaG_expt\", fill_alpha=0.2, size=10, source=source)\n",
    "\n",
    "# Create tooltips referencing stored images\n",
    "tooltips = \"\"\"<img src=@img>\"\"\"\n",
    "\n",
    "# Connect tooltips to plot\n",
    "p.add_tools(HoverTool(tooltips=tooltips))\n",
    "\n",
    "# Uncomment to create a html file of the plot.\n",
    "# output_file(\"bokeh_plot.html\")"
   ]
  },
  {
   "cell_type": "code",
   "execution_count": 14,
   "metadata": {
    "slideshow": {
     "slide_type": "subslide"
    }
   },
   "outputs": [
    {
     "data": {
      "text/html": [
       "\n",
       "<div class=\"bk-root\">\n",
       "    <div class=\"bk-plotdiv\" id=\"da9a0035-8fff-4e43-9ffb-5dea2bb212ad\"></div>\n",
       "</div>"
      ]
     },
     "metadata": {},
     "output_type": "display_data"
    },
    {
     "data": {
      "application/javascript": [
       "(function(root) {\n",
       "  function embed_document(root) {\n",
       "    var docs_json = {\"9ce0fcb5-7524-4da3-8f95-a8877111c59c\":{\"roots\":{\"references\":[{\"attributes\":{\"bottom_units\":\"screen\",\"fill_alpha\":{\"value\":0.5},\"fill_color\":{\"value\":\"lightgrey\"},\"left_units\":\"screen\",\"level\":\"overlay\",\"line_alpha\":{\"value\":1.0},\"line_color\":{\"value\":\"black\"},\"line_dash\":[4,4],\"line_width\":{\"value\":2},\"plot\":null,\"render_mode\":\"css\",\"right_units\":\"screen\",\"top_units\":\"screen\"},\"id\":\"3b82750f-182d-47f9-b67d-43ed120b144e\",\"type\":\"BoxAnnotation\"},{\"attributes\":{},\"id\":\"224788db-63b2-435c-8fff-bc0500f561b0\",\"type\":\"LinearScale\"},{\"attributes\":{\"callback\":null,\"tooltips\":\"<img src=@img>\"},\"id\":\"b9692cc0-bc4f-429f-908b-97e79e3aeacc\",\"type\":\"HoverTool\"},{\"attributes\":{\"callback\":null},\"id\":\"be9b16f5-57c1-4aea-b4fb-aa89821bd184\",\"type\":\"DataRange1d\"},{\"attributes\":{\"bottom_units\":\"screen\",\"fill_alpha\":{\"value\":0.5},\"fill_color\":{\"value\":\"lightgrey\"},\"left_units\":\"screen\",\"level\":\"overlay\",\"line_alpha\":{\"value\":1.0},\"line_color\":{\"value\":\"black\"},\"line_dash\":[4,4],\"line_width\":{\"value\":2},\"plot\":null,\"render_mode\":\"css\",\"right_units\":\"screen\",\"top_units\":\"screen\"},\"id\":\"fad10757-39d6-44b0-bbbf-4c558bb9d443\",\"type\":\"BoxAnnotation\"},{\"attributes\":{},\"id\":\"1d1dd561-5ca9-4a08-80fe-460e23909dca\",\"type\":\"LinearScale\"},{\"attributes\":{},\"id\":\"4722969e-c4dc-4fc8-959a-0a31d9fc8f29\",\"type\":\"BasicTickFormatter\"},{\"attributes\":{\"axis_label\":\"DeltaG_calc\",\"formatter\":{\"id\":\"801a95e8-4098-471a-a102-86158da50859\",\"type\":\"BasicTickFormatter\"},\"plot\":{\"id\":\"5c0b23bf-db2f-42b1-8579-9274047e77bc\",\"subtype\":\"Figure\",\"type\":\"Plot\"},\"ticker\":{\"id\":\"5c2531e4-4658-4b5f-8b81-8fa41e991992\",\"type\":\"BasicTicker\"}},\"id\":\"58d06140-8ca5-45fc-a9e8-aa3cbb7bbbb1\",\"type\":\"LinearAxis\"},{\"attributes\":{\"below\":[{\"id\":\"58d06140-8ca5-45fc-a9e8-aa3cbb7bbbb1\",\"type\":\"LinearAxis\"}],\"left\":[{\"id\":\"e96613f4-856d-4d74-ba68-0d46a74ad63e\",\"type\":\"LinearAxis\"}],\"renderers\":[{\"id\":\"58d06140-8ca5-45fc-a9e8-aa3cbb7bbbb1\",\"type\":\"LinearAxis\"},{\"id\":\"dbe7a65a-333e-4244-9def-51ab8cab1f9e\",\"type\":\"Grid\"},{\"id\":\"e96613f4-856d-4d74-ba68-0d46a74ad63e\",\"type\":\"LinearAxis\"},{\"id\":\"caf9f432-c541-422f-bb51-7832b1e764de\",\"type\":\"Grid\"},{\"id\":\"3b82750f-182d-47f9-b67d-43ed120b144e\",\"type\":\"BoxAnnotation\"},{\"id\":\"fad10757-39d6-44b0-bbbf-4c558bb9d443\",\"type\":\"BoxAnnotation\"},{\"id\":\"b0ae1e9c-c582-488c-b81e-893da6cd5c5e\",\"type\":\"GlyphRenderer\"}],\"title\":{\"id\":\"4b3085bc-2ea0-4e28-8595-f71af35f111e\",\"type\":\"Title\"},\"toolbar\":{\"id\":\"676c16a4-3b69-4b6d-994c-e105ef7e74bd\",\"type\":\"Toolbar\"},\"x_range\":{\"id\":\"6729b817-827a-4486-880e-25ceaf3ba81e\",\"type\":\"DataRange1d\"},\"x_scale\":{\"id\":\"224788db-63b2-435c-8fff-bc0500f561b0\",\"type\":\"LinearScale\"},\"y_range\":{\"id\":\"be9b16f5-57c1-4aea-b4fb-aa89821bd184\",\"type\":\"DataRange1d\"},\"y_scale\":{\"id\":\"1d1dd561-5ca9-4a08-80fe-460e23909dca\",\"type\":\"LinearScale\"}},\"id\":\"5c0b23bf-db2f-42b1-8579-9274047e77bc\",\"subtype\":\"Figure\",\"type\":\"Plot\"},{\"attributes\":{},\"id\":\"5c2531e4-4658-4b5f-8b81-8fa41e991992\",\"type\":\"BasicTicker\"},{\"attributes\":{\"plot\":{\"id\":\"5c0b23bf-db2f-42b1-8579-9274047e77bc\",\"subtype\":\"Figure\",\"type\":\"Plot\"},\"ticker\":{\"id\":\"5c2531e4-4658-4b5f-8b81-8fa41e991992\",\"type\":\"BasicTicker\"}},\"id\":\"dbe7a65a-333e-4244-9def-51ab8cab1f9e\",\"type\":\"Grid\"},{\"attributes\":{\"active_drag\":\"auto\",\"active_inspect\":\"auto\",\"active_scroll\":\"auto\",\"active_tap\":\"auto\",\"tools\":[{\"id\":\"b1ed8e73-80ed-4532-8c65-3046e5054f0d\",\"type\":\"BoxZoomTool\"},{\"id\":\"318d93fa-3493-4e1a-94b0-297f534e7ee5\",\"type\":\"BoxSelectTool\"},{\"id\":\"f2316a35-4f0a-4ade-beda-eb5ba011e5fd\",\"type\":\"ResetTool\"},{\"id\":\"b3bb0373-f797-4348-ae00-85828095f5e3\",\"type\":\"SaveTool\"},{\"id\":\"b9692cc0-bc4f-429f-908b-97e79e3aeacc\",\"type\":\"HoverTool\"}]},\"id\":\"676c16a4-3b69-4b6d-994c-e105ef7e74bd\",\"type\":\"Toolbar\"},{\"attributes\":{\"axis_label\":\"DeltaG_expt\",\"formatter\":{\"id\":\"4722969e-c4dc-4fc8-959a-0a31d9fc8f29\",\"type\":\"BasicTickFormatter\"},\"plot\":{\"id\":\"5c0b23bf-db2f-42b1-8579-9274047e77bc\",\"subtype\":\"Figure\",\"type\":\"Plot\"},\"ticker\":{\"id\":\"12d2bc1b-07b4-491b-8903-2aad2bf30876\",\"type\":\"BasicTicker\"}},\"id\":\"e96613f4-856d-4d74-ba68-0d46a74ad63e\",\"type\":\"LinearAxis\"},{\"attributes\":{\"callback\":null},\"id\":\"6729b817-827a-4486-880e-25ceaf3ba81e\",\"type\":\"DataRange1d\"},{\"attributes\":{},\"id\":\"12d2bc1b-07b4-491b-8903-2aad2bf30876\",\"type\":\"BasicTicker\"},{\"attributes\":{\"dimension\":1,\"plot\":{\"id\":\"5c0b23bf-db2f-42b1-8579-9274047e77bc\",\"subtype\":\"Figure\",\"type\":\"Plot\"},\"ticker\":{\"id\":\"12d2bc1b-07b4-491b-8903-2aad2bf30876\",\"type\":\"BasicTicker\"}},\"id\":\"caf9f432-c541-422f-bb51-7832b1e764de\",\"type\":\"Grid\"},{\"attributes\":{\"callback\":null,\"column_names\":[\"DeltaG_calc\",\"DeltaG_expt\",\"names\",\"index\",\"img\"],\"data\":{\"DeltaG_calc\":{\"__ndarray__\":\"hxbZzvfTFsBI4XoUrkfpv0A1XrpJDPg/sp3vp8ZLx79mZmZmZmYIwJqZmZmZmQDA+FPjpZvECUBSuB6F61HIvw==\",\"dtype\":\"float64\",\"shape\":[8]},\"DeltaG_expt\":{\"__ndarray__\":\"ZmZmZmZmGsDNzMzMzMzsv65H4XoUrvM/mpmZmZmZ8b9I4XoUrkcLwBSuR+F6FBDACtejcD0KCUApXI/C9Sjwvw==\",\"dtype\":\"float64\",\"shape\":[8]},\"img\":[\"data:image/png;base64,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\",\"data:image/png;base64,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\",\"data:image/png;base64,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\",\"data:image/png;base64,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\",\"data:image/png;base64,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\",\"data:image/png;base64,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\",\"data:image/png;base64,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\",\"data:image/png;base64,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\"],\"index\":[0,1,2,3,4,5,6,7],\"names\":[\"phenol\",\"toluene\",\"cyclohexane\",\"propanethiol\",\"pentan-3-one\",\"nitromethane\",\"nonane\",\"1,4-dichlorobenzene\"]}},\"id\":\"376e533f-df38-4d5f-9e1a-7623bff2929b\",\"type\":\"ColumnDataSource\"},{\"attributes\":{},\"id\":\"b3bb0373-f797-4348-ae00-85828095f5e3\",\"type\":\"SaveTool\"},{\"attributes\":{\"data_source\":{\"id\":\"376e533f-df38-4d5f-9e1a-7623bff2929b\",\"type\":\"ColumnDataSource\"},\"glyph\":{\"id\":\"65be7979-ddac-4b47-90e1-5584933671a8\",\"type\":\"Circle\"},\"hover_glyph\":null,\"muted_glyph\":null,\"nonselection_glyph\":{\"id\":\"d48cb4dc-84b5-4a17-9d0d-e9fd615df286\",\"type\":\"Circle\"},\"selection_glyph\":null,\"view\":{\"id\":\"f4506e63-d763-476b-81d9-0ed7319c1b2e\",\"type\":\"CDSView\"}},\"id\":\"b0ae1e9c-c582-488c-b81e-893da6cd5c5e\",\"type\":\"GlyphRenderer\"},{\"attributes\":{\"fill_alpha\":{\"value\":0.1},\"fill_color\":{\"value\":\"#1f77b4\"},\"line_alpha\":{\"value\":0.1},\"line_color\":{\"value\":\"#1f77b4\"},\"size\":{\"units\":\"screen\",\"value\":10},\"x\":{\"field\":\"DeltaG_calc\"},\"y\":{\"field\":\"DeltaG_expt\"}},\"id\":\"d48cb4dc-84b5-4a17-9d0d-e9fd615df286\",\"type\":\"Circle\"},{\"attributes\":{\"fill_alpha\":{\"value\":0.2},\"fill_color\":{\"value\":\"#1f77b4\"},\"line_color\":{\"value\":\"#1f77b4\"},\"size\":{\"units\":\"screen\",\"value\":10},\"x\":{\"field\":\"DeltaG_calc\"},\"y\":{\"field\":\"DeltaG_expt\"}},\"id\":\"65be7979-ddac-4b47-90e1-5584933671a8\",\"type\":\"Circle\"},{\"attributes\":{},\"id\":\"801a95e8-4098-471a-a102-86158da50859\",\"type\":\"BasicTickFormatter\"},{\"attributes\":{\"overlay\":{\"id\":\"3b82750f-182d-47f9-b67d-43ed120b144e\",\"type\":\"BoxAnnotation\"}},\"id\":\"b1ed8e73-80ed-4532-8c65-3046e5054f0d\",\"type\":\"BoxZoomTool\"},{\"attributes\":{\"source\":{\"id\":\"376e533f-df38-4d5f-9e1a-7623bff2929b\",\"type\":\"ColumnDataSource\"}},\"id\":\"f4506e63-d763-476b-81d9-0ed7319c1b2e\",\"type\":\"CDSView\"},{\"attributes\":{\"callback\":null,\"overlay\":{\"id\":\"fad10757-39d6-44b0-bbbf-4c558bb9d443\",\"type\":\"BoxAnnotation\"},\"renderers\":[{\"id\":\"b0ae1e9c-c582-488c-b81e-893da6cd5c5e\",\"type\":\"GlyphRenderer\"}]},\"id\":\"318d93fa-3493-4e1a-94b0-297f534e7ee5\",\"type\":\"BoxSelectTool\"},{\"attributes\":{},\"id\":\"f2316a35-4f0a-4ade-beda-eb5ba011e5fd\",\"type\":\"ResetTool\"},{\"attributes\":{\"plot\":null,\"text\":\"Molecule\"},\"id\":\"4b3085bc-2ea0-4e28-8595-f71af35f111e\",\"type\":\"Title\"}],\"root_ids\":[\"5c0b23bf-db2f-42b1-8579-9274047e77bc\"]},\"title\":\"Bokeh Application\",\"version\":\"0.12.11\"}};\n",
       "    var render_items = [{\"docid\":\"9ce0fcb5-7524-4da3-8f95-a8877111c59c\",\"elementid\":\"da9a0035-8fff-4e43-9ffb-5dea2bb212ad\",\"modelid\":\"5c0b23bf-db2f-42b1-8579-9274047e77bc\"}];\n",
       "    root.Bokeh.embed.embed_items(docs_json, render_items);\n",
       "  }\n",
       "  if (root.Bokeh !== undefined) {\n",
       "    embed_document(root);\n",
       "  } else {\n",
       "    var attempts = 0;\n",
       "    var timer = setInterval(function(root) {\n",
       "      if (root.Bokeh !== undefined) {\n",
       "        embed_document(root);\n",
       "        clearInterval(timer);\n",
       "      }\n",
       "      attempts++;\n",
       "      if (attempts > 100) {\n",
       "        console.log(\"Bokeh: ERROR: Unable to embed document because BokehJS library is missing\")\n",
       "        clearInterval(timer);\n",
       "      }\n",
       "    }, 10, root)\n",
       "  }\n",
       "})(window);"
      ],
      "application/vnd.bokehjs_exec.v0+json": ""
     },
     "metadata": {
      "application/vnd.bokehjs_exec.v0+json": {
       "id": "5c0b23bf-db2f-42b1-8579-9274047e77bc"
      }
     },
     "output_type": "display_data"
    }
   ],
   "source": [
    "show(p)"
   ]
  },
  {
   "cell_type": "code",
   "execution_count": 15,
   "metadata": {
    "slideshow": {
     "slide_type": "skip"
    }
   },
   "outputs": [],
   "source": [
    "# There should be simpler ways to do the above, such as \n",
    "# f,a = oenb.scatter_mpl(df,\"DeltaG\",\"dDeltaG\") \n",
    "# and\n",
    "# f = oenb.scatter_bokeh(df,\"DeltaG\",\"dDeltaG\")\n",
    "# but these seem to be currently broken with the latest `oenotebook` due to version changes."
   ]
  },
  {
   "cell_type": "code",
   "execution_count": 16,
   "metadata": {
    "slideshow": {
     "slide_type": "subslide"
    }
   },
   "outputs": [
    {
     "data": {
      "text/plain": [
       "[<matplotlib.lines.Line2D at 0x12328b400>]"
      ]
     },
     "execution_count": 16,
     "metadata": {},
     "output_type": "execute_result"
    },
    {
     "data": {
      "image/png": "[encoded data removed]",
      "text/plain": [
       "<matplotlib.figure.Figure at 0x12259ef60>"
      ]
     },
     "metadata": {},
     "output_type": "display_data"
    }
   ],
   "source": [
    "# The simple, old-fashioned way\n",
    "%matplotlib inline\n",
    "from pylab import *\n",
    "\n",
    "xlabel(r'$\\Delta G_{calc}$')\n",
    "ylabel(r'$\\Delta G_{expt}$')\n",
    "plot( df.DeltaG_calc, df.DeltaG_expt, 'bo')"
   ]
  },
  {
   "cell_type": "markdown",
   "metadata": {
    "slideshow": {
     "slide_type": "subslide"
    }
   },
   "source": [
    "# Explicit solvent results for cyclopentanol in water:\n",
    "<img src=\"images/results.jpg\" alt=\"results\" style=\"width: 1400px;\" align=\"left\"/>\n",
    "\n",
    "\n",
    "Enthalpy very hard to estimate accurately without very long simulations."
   ]
  },
  {
   "cell_type": "markdown",
   "metadata": {
    "slideshow": {
     "slide_type": "slide"
    }
   },
   "source": [
    "# Analyzing whether your hydration free energy calculation worked/behaved itself\n",
    "\n",
    "- Error analysis above: Works well when enough or nearly enough data, but unreliable as data/overlap becomes problematic\n",
    "- Yank provides a facility to get a much more detailed view of the \"health\" of your calculations\n",
    "- In the `hydration-out` directory, run `yank analyze report --store=experiments --output=hydration_1ns.ipynb`\n",
    "- Open the resulting jupyter notebook (`jupyter notebook hydration_1ns.ipynb`) and run the contents\n",
    "- I've put a copy of the results in [`sample_files/hydration_1ns.html`](sample_files/hydration_1ns.html); **let's visualize that now** and discuss."
   ]
  }
 ],
 "metadata": {
  "celltoolbar": "Slideshow",
  "kernelspec": {
   "display_name": "Python [default]",
   "language": "python",
   "name": "python3"
  },
  "language_info": {
   "codemirror_mode": {
    "name": "ipython",
    "version": 3
   },
   "file_extension": ".py",
   "mimetype": "text/x-python",
   "name": "python",
   "nbconvert_exporter": "python",
   "pygments_lexer": "ipython3",
   "version": "3.6.3"
  },
  "livereveal": {
   "height": 900,
   "start_slideshow_at": "selected",
   "width": 1440
  },
  "toc": {
   "nav_menu": {},
   "number_sections": true,
   "sideBar": true,
   "skip_h1_title": false,
   "toc_cell": false,
   "toc_position": {},
   "toc_section_display": "block",
   "toc_window_display": false
  }
 },
 "nbformat": 4,
 "nbformat_minor": 2
}
