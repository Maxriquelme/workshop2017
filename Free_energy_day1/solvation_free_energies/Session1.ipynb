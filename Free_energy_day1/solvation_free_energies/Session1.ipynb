{
 "cells": [
  {
   "cell_type": "markdown",
   "metadata": {
    "slideshow": {
     "slide_type": "skip"
    }
   },
   "source": [
    "# Symposium on Molecular Interactions Tutorials\n",
    "## What is this?? \n",
    "This is a Jupyter notebook. It runs Python, but also allows it to be interspersed with Markdown-formatted text, for a nice mixture of documentation and code.\n",
    "\n",
    "The particular material below is Session 1 of the tutorials on free energy calculations and OpenMM, from Day 1 of the Symposium on Molecular Interactions (2017).\n",
    "\n",
    "This content is available on the [symposium github repository](https://github.com/QCMM/workshop2017) at [https://github.com/QCMM/workshop2017](https://github.com/QCMM/workshop2017).\n",
    "\n",
    "This material is a set of slides intended for presentation with RISE (for presentations from Jupyter notebooks). While it may be useful without RISE, it will also likely appear somewhat less verbose than it would if it were intended for use in written form.\n",
    "\n",
    "## Authors/sources/acknowledgments\n",
    "Author: David L. Mobley (UCI)\n",
    "\n",
    "### Sources\n",
    "- Much of content adapted from materials I have developed or am developing for my [Drug Discovery Computing Techniques class](https://github.com/mobleylab/drug-computing).\n",
    "\n",
    "### Acknowledgments\n",
    "- John Chodera and Nathan Lim for help with OpenMM\n",
    "- OpenEye for help with OpenEye software, especially James Haigh"
   ]
  },
  {
   "cell_type": "markdown",
   "metadata": {
    "slideshow": {
     "slide_type": "slide"
    }
   },
   "source": [
    "# Before we get going, pick your favorite molecule and start a hydration free energy calculation\n",
    "\n",
    "- Navigate to `solvation_free_energies` under workshop material\n",
    "- Type `python run_hydration.py --name=yourmoleculename` or `python run_hydration.py --smiles=SMILES` to start an implicit solvent hydration free energy calculation; replace `yourmoleculename` with an IUPAC name of your favorite small, fairly rigid molecule (e.g. phenol) or `SMILES` with a SMILES string\n",
    "- We'll analyze the results of this later\n",
    "\n",
    "Aside: I'll assume throughout that you know how to navigate the command prompt, open and edit text files, etc. If not, (such as due to unfamiliarity with the OS) please ask us for help."
   ]
  },
  {
   "cell_type": "markdown",
   "metadata": {
    "slideshow": {
     "slide_type": "slide"
    }
   },
   "source": [
    "# Outline of this afternoon's first session\n",
    "1. Orientation about GitHub\n",
    "2. Preparing and working with small molecules/organic molecules\n",
    "3. About that hydration free energy calculation...\n",
    "4. Analysis of a hydration calculation\n",
    "5. How to know if your results are in good shape\n",
    "\n",
    "**To follow along**/run code: Open this Jupyter notebook in `solvation_free_energies/Session1.ipynb` via `jupyter notebook Session1.ipynb`. (See [prerequisites](../prerequisites.md) if you aren't using preinstalled software.)\n"
   ]
  },
  {
   "cell_type": "markdown",
   "metadata": {
    "slideshow": {
     "slide_type": "slide"
    }
   },
   "source": [
    "# Orientation/about GitHub\n",
    "\n",
    "- This material is [on GitHub](https://github.com/QCMM/workshop2017)\n",
    "- You should have a copy of it on your computer\n",
    "- If not, you can get it at [https://github.com/QCMM/workshop2017](https://github.com/QCMM/workshop2017), and it can be useful to browse the web interface for reference/documentation.\n",
    "- To get a copy, visit the GitHub repo:"
   ]
  },
  {
   "cell_type": "markdown",
   "metadata": {
    "slideshow": {
     "slide_type": "subslide"
    }
   },
   "source": [
    "## Copy Git link from \"clone or download\" then retrieve on your computer\n",
    "\n",
    "If you don't already have it, copy the below link, then `git clone https://github.com/QCMM/workshop2017.git` on your computer, then `cd workshop2017`. Updates can be retrieved by `git pull origin master`.\n",
    "\n",
    "<img src=\"images/github_use.png\" alt=\"GitHub\" style=\"width: 1000px;\" align=\"right\"/>\n",
    "\n"
   ]
  },
  {
   "cell_type": "markdown",
   "metadata": {
    "slideshow": {
     "slide_type": "slide"
    }
   },
   "source": [
    "# Working with small molecules/organic molecules\n",
    "\n",
    "- MD packages tend not to \"know chemistry\", just biopolymers\n",
    "- So you need a chemistry toolkit\n",
    "- We'll use the OpenEye toolkits here a lot (great tools, free academic license available)\n",
    "- RDKit is an open alternative\n",
    "\n",
    "In the context of free energy calculations, you need a chemistry toolkit to help you set up the molecules you want, assign partial charges, handle symmetries, etc. \n",
    "\n",
    "Yank, the code you used above, uses OpenEye toolkits to handle chemistry so it can handle various inputs. But what if you want to prepare your own?"
   ]
  },
  {
   "cell_type": "markdown",
   "metadata": {
    "slideshow": {
     "slide_type": "subslide"
    }
   },
   "source": [
    "## Let's start with molecule generation from [SMILES](https://en.wikipedia.org/wiki/Simplified_molecular-input_line-entry_system)"
   ]
  },
  {
   "cell_type": "code",
   "execution_count": 11,
   "metadata": {
    "slideshow": {
     "slide_type": "fragment"
    }
   },
   "outputs": [
    {
     "name": "stdout",
     "output_type": "stream",
     "text": [
      "Is your OEChem licensed? True\n"
     ]
    }
   ],
   "source": [
    "# Import OpenEye toolkits we need \n",
    "from openeye.oechem import * #General chemistry toolkit\n",
    "from openeye.oeiupac import * #For working with molecule names\n",
    "import oenotebook as oenb # Handy OpenEye plugins for Jupyter notebooks\n",
    "print(\"Is your OEChem licensed?\", oechem.OEChemIsLicensed()) #Check it's working!"
   ]
  },
  {
   "cell_type": "code",
   "execution_count": 43,
   "metadata": {
    "slideshow": {
     "slide_type": "fragment"
    }
   },
   "outputs": [
    {
     "data": {
      "image/png": "[encoded data removed]",
      "text/plain": [
       "<IPython.core.display.Image object>"
      ]
     },
     "execution_count": 43,
     "metadata": {},
     "output_type": "execute_result"
    }
   ],
   "source": [
    "# Create a basic OpenEye molecule\n",
    "mol = OEMol()\n",
    "\n",
    "# Parse a SMILES string to this molecule\n",
    "oechem.OESmilesToMol(mol, 'OC(CC1CCCC1)=O')\n",
    "\n",
    "# Depict!\n",
    "oenb.draw_mol(mol)"
   ]
  },
  {
   "cell_type": "markdown",
   "metadata": {
    "slideshow": {
     "slide_type": "slide"
    }
   },
   "source": [
    "## Molecule generation from IUPAC names"
   ]
  },
  {
   "cell_type": "code",
   "execution_count": 21,
   "metadata": {
    "slideshow": {
     "slide_type": "fragment"
    }
   },
   "outputs": [
    {
     "data": {
      "image/png": "[encoded data removed]",
      "text/plain": [
       "<IPython.core.display.Image object>"
      ]
     },
     "execution_count": 21,
     "metadata": {},
     "output_type": "execute_result"
    }
   ],
   "source": [
    "# Generate new molecule\n",
    "mol_from_name = OEMol()\n",
    "\n",
    "# Store a name\n",
    "mol_name = '1-chloro-6-methylnaphthalene'\n",
    "\n",
    "#Parse name\n",
    "OEParseIUPACName(mol_from_name, mol_name)\n",
    "\n",
    "#Depict\n",
    "oenb.draw_mol(mol_from_name)"
   ]
  },
  {
   "cell_type": "code",
   "execution_count": 16,
   "metadata": {
    "slideshow": {
     "slide_type": "fragment"
    }
   },
   "outputs": [
    {
     "name": "stdout",
     "output_type": "stream",
     "text": [
      "Cc1ccc2c(c1)cccc2Cl\n"
     ]
    }
   ],
   "source": [
    "# OK, but maybe I LIKE SMILES\n",
    "print(OECreateIsoSmiString(mol_from_name))"
   ]
  },
  {
   "cell_type": "markdown",
   "metadata": {
    "slideshow": {
     "slide_type": "slide"
    }
   },
   "source": [
    "## Conformer generation: If you're going to use it in a simulation, you need 3D\n",
    "\n",
    "`Omega` is the OpenEye conformer-generation toolkit; very focused on organics, but quite good and fast.\n",
    "Aims at generating reasonably-likely solution-phase conformers, NOT at predicting THE conformation. Tends to be quite good at generating conformers near likely minima."
   ]
  },
  {
   "cell_type": "code",
   "execution_count": 24,
   "metadata": {
    "slideshow": {
     "slide_type": "fragment"
    }
   },
   "outputs": [
    {
     "name": "stdout",
     "output_type": "stream",
     "text": [
      "Number of atoms before conformer generation (heavy atoms only):  9\n",
      "Number of atoms after conformer generation (includes hydroges):  21\n"
     ]
    }
   ],
   "source": [
    "from openeye.oeomega import *\n",
    "omega = OEOmega() #initialize class\n",
    "omega.SetMaxConfs(1) # Only generate one for now\n",
    "\n",
    "print(\"Number of atoms before conformer generation (heavy atoms only): \", mol.NumAtoms())\n",
    "omega(mol)\n",
    "print(\"Number of atoms after conformer generation (includes hydroges): \", mol.NumAtoms())"
   ]
  },
  {
   "cell_type": "markdown",
   "metadata": {
    "slideshow": {
     "slide_type": "slide"
    }
   },
   "source": [
    "## Partial charge assignment\n",
    "\n",
    "Often, QM calculations are used to assign partial charges for molecules. However, AM1-BCC charges see widespread use as they are fit to be similar to HF/6-31G* RESP charges used for many FFs when originally developed (such as AMBER).\n",
    "OpenEye tools provide an easy interface to claculate these"
   ]
  },
  {
   "cell_type": "code",
   "execution_count": 32,
   "metadata": {
    "slideshow": {
     "slide_type": "fragment"
    }
   },
   "outputs": [
    {
     "data": {
      "text/plain": [
       "True"
      ]
     },
     "execution_count": 32,
     "metadata": {},
     "output_type": "execute_result"
    }
   ],
   "source": [
    "from openeye.oequacpac import * #quacpac has tools for working with charges, tautomers, etc.\n",
    "\n",
    "#Initialize charge generation\n",
    "chargeEngine = OEAM1BCCCharges()\n",
    "\n",
    "# Set to use a simple neutral pH model; will make some attempt to pick a protonation state reasonably likely at \n",
    "# neutral pH (not accurate)\n",
    "OESetNeutralpHModel(mol)\n",
    "\n",
    "# Generate charges\n",
    "OEAssignCharges(mol, chargeEngine)"
   ]
  },
  {
   "cell_type": "markdown",
   "metadata": {
    "slideshow": {
     "slide_type": "slide"
    }
   },
   "source": [
    "## Looping over atoms and getting properties"
   ]
  },
  {
   "cell_type": "code",
   "execution_count": 39,
   "metadata": {
    "slideshow": {
     "slide_type": "fragment"
    }
   },
   "outputs": [
    {
     "name": "stdout",
     "output_type": "stream",
     "text": [
      "Name: C1, formal charge: 0, partial charge 0.91\n",
      "Name: C2, formal charge: 0, partial charge -0.0773\n",
      "Name: C3, formal charge: 0, partial charge -0.0773\n",
      "Name: C4, formal charge: 0, partial charge -0.0784\n",
      "Name: C5, formal charge: 0, partial charge -0.0784\n",
      "Name: C6, formal charge: 0, partial charge -0.0482\n",
      "Name: C7, formal charge: 0, partial charge -0.189\n",
      "Name: O1, formal charge: 0, partial charge -0.852\n",
      "Name: O2, formal charge: -1, partial charge -0.852\n"
     ]
    }
   ],
   "source": [
    "# One can easily loop over atoms and get various properties\n",
    "OETriposAtomNames(mol) #Assign names so the atoms will have useful names\n",
    "\n",
    "# Loop over atoms\n",
    "for atom in mol.GetAtoms():\n",
    "    # Print some info for non-hydrogen atoms\n",
    "    if not atom.IsHydrogen():\n",
    "        print(\"Name: %s, formal charge: %d, partial charge %.3g\" % \n",
    "           (atom.GetName(), atom.GetFormalCharge(), atom.GetPartialCharge()))"
   ]
  },
  {
   "cell_type": "markdown",
   "metadata": {
    "slideshow": {
     "slide_type": "fragment"
    }
   },
   "source": [
    "You can loop over bonds, too. The [OpenEye documentation](https://docs.eyesopen.com) is good and complete."
   ]
  },
  {
   "cell_type": "markdown",
   "metadata": {
    "slideshow": {
     "slide_type": "slide"
    }
   },
   "source": [
    "## File I/O\n",
    "\n",
    "OpenEye supports reading to/writing from a pretty significant number of file formats; 30K+ lines of code, but all you need to know is:"
   ]
  },
  {
   "cell_type": "code",
   "execution_count": 44,
   "metadata": {
    "slideshow": {
     "slide_type": "fragment"
    }
   },
   "outputs": [
    {
     "name": "stdout",
     "output_type": "stream",
     "text": [
      "13\n"
     ]
    }
   ],
   "source": [
    "# Generate new molecule\n",
    "new_molecule = OEMol()\n",
    "# Open input stream\n",
    "ifile = oemolistream('sample_files/mobley_20524.mol2')\n",
    "\n",
    "# Read molecule\n",
    "OEReadMolecule(ifile, new_molecule)\n",
    "print(new_molecule.NumAtoms())\n",
    "# Close inputstream\n",
    "ifile.close()"
   ]
  },
  {
   "cell_type": "code",
   "execution_count": 46,
   "metadata": {
    "slideshow": {
     "slide_type": "subslide"
    }
   },
   "outputs": [],
   "source": [
    "# Write out to another file format - try picking YOUR favorite for fun.\n",
    "\n",
    "# Open ouput stream\n",
    "ofile = oemolostream('sample_files/mobley_20524.pdb')\n",
    "OEWriteMolecule(ofile, new_molecule)\n",
    "ofile.close()"
   ]
  },
  {
   "cell_type": "code",
   "execution_count": 48,
   "metadata": {
    "slideshow": {
     "slide_type": "subslide"
    }
   },
   "outputs": [
    {
     "name": "stderr",
     "output_type": "stream",
     "text": [
      "/Users/dmobley/anaconda3/envs/rise_python36/lib/python3.6/site-packages/pandas/io/parsers.py:2218: FutureWarning: split() requires a non-empty pattern match.\n",
      "  yield pat.split(line.strip())\n",
      "/Users/dmobley/anaconda3/envs/rise_python36/lib/python3.6/site-packages/pandas/io/parsers.py:2220: FutureWarning: split() requires a non-empty pattern match.\n",
      "  yield pat.split(line.strip())\n"
     ]
    },
    {
     "data": {
      "application/vnd.jupyter.widget-view+json": {
       "model_id": "4f03619f5eaf40488d2bf45a84e673d9",
       "version_major": 2,
       "version_minor": 0
      },
      "text/html": [
       "<p>Failed to display Jupyter Widget of type <code>NGLWidget</code>.</p>\n",
       "<p>\n",
       "  If you're reading this message in the Jupyter Notebook or JupyterLab Notebook, it may mean\n",
       "  that the widgets JavaScript is still loading. If this message persists, it\n",
       "  likely means that the widgets JavaScript library is either not installed or\n",
       "  not enabled. See the <a href=\"https://ipywidgets.readthedocs.io/en/stable/user_install.html\">Jupyter\n",
       "  Widgets Documentation</a> for setup instructions.\n",
       "</p>\n",
       "<p>\n",
       "  If you're reading this message in another frontend (for example, a static\n",
       "  rendering on GitHub or <a href=\"https://nbviewer.jupyter.org/\">NBViewer</a>),\n",
       "  it may mean that your frontend doesn't currently support widgets.\n",
       "</p>\n"
      ],
      "text/plain": [
       "NGLWidget()"
      ]
     },
     "metadata": {},
     "output_type": "display_data"
    }
   ],
   "source": [
    "# If you have nglview installed, you should be able to visualize inline using MDTraj and nglview\n",
    "# (but we didn't get this working on your virtual machines in time for the workshop), so see VMD.\n",
    "import nglview\n",
    "import mdtraj\n",
    "\n",
    "# Load file\n",
    "traj = mdtraj.load('sample_files/mobley_20524.mol2')\n",
    "\n",
    "# View using nglview\n",
    "view = nglview.show_mdtraj(traj)\n",
    "view"
   ]
  },
  {
   "cell_type": "markdown",
   "metadata": {
    "slideshow": {
     "slide_type": "skip"
    }
   },
   "source": [
    "## Common gotchas/things to watch out for\n",
    "\n",
    "- PDB file loads\n",
    "- unspecified stereochemistry\n",
    "- isomeric SMILES/canonical SMILES (stereochemistry is important!)\n",
    "- ambiguous IUPAC names\n",
    "- file names: Don't use molecule names (which can contain commas, italics, and various special characters) as file names\n",
    "- IUPAC is just not a good representation; for general molecule identifiers, use SMILES or mol2 files."
   ]
  },
  {
   "cell_type": "markdown",
   "metadata": {
    "slideshow": {
     "slide_type": "slide"
    }
   },
   "source": [
    "# About that hydration free energy calculation: It's using [Yank](http://getyank.org/latest/)...\n",
    "\n",
    "- OpenMM-based package for free energy calculations\n",
    "- OpenMM: More a simulation toolkit than a package (see Session 2)\n",
    "- Binding free energy calculations, solvatio free energy calculations\n",
    "- `run_hydration.py` just an even-simpler command-line interface to Yank's command-line or python interfaces\n",
    "- We'll take a look at what it's doing\n",
    "\n",
    "Check out `run_hydration.py`, e.g. with `vi run_hydration.py`"
   ]
  },
  {
   "cell_type": "markdown",
   "metadata": {
    "slideshow": {
     "slide_type": "slide"
    }
   },
   "source": [
    "## Yank uses a flexible YAML syntax for input files/input instructions\n",
    "\n",
    "\n",
    "<img src=\"images/yaml1.png\" alt=\"GitHub\" style=\"width: 1000px;\" align=\"right\"/>\n",
    "The [YAML cookbook](http://getyank.org/latest/yamlpages/cookbook.html) provides a good entry point (concrete examples). Here's some of ours:\n"
   ]
  },
  {
   "cell_type": "markdown",
   "metadata": {
    "slideshow": {
     "slide_type": "notes"
    }
   },
   "source": [
    "- Many self-explanatory\n",
    "- [options](http://getyank.org/latest/yamlpages/options.html) gives basic simulation options\n",
    "    - include how often (in steps) to write checkpoint files, whether or not to write data for resuming, the number of iterations to run, the timestep, etc.\n",
    "    - Hamiltonian replica exchange simulations, hence \"iterations\"\n",
    "- `anisotropic_dispersion_cutoff`: Compute and include anisotropic dispersion correction for cutoff long range dispersion interactions past this cutoff.\n",
    "- [molecules](http://getyank.org/latest/yamlpages/molecules.html) can be from `filepath` (SDF, PDB, mol2, .csv (SMILES)),  `smiles`, or `name` (IUPAC name)\n",
    "    - Defines what molecules used in your systems\n",
    "    - Built whether or not they are used"
   ]
  },
  {
   "cell_type": "markdown",
   "metadata": {
    "slideshow": {
     "slide_type": "subslide"
    }
   },
   "source": [
    "### More of that YAML file:\n",
    "\n",
    "<img src=\"images/yaml2.png\" alt=\"YAML\" style=\"width: 1000px;\" align=\"right\"/>"
   ]
  },
  {
   "cell_type": "markdown",
   "metadata": {
    "slideshow": {
     "slide_type": "notes"
    }
   },
   "source": [
    "- [solvents](http://getyank.org/latest/yamlpages/solvents.html): Specifies what solvents are available, including vacuum\n",
    "- Here, defines TIP3P, GBSA (OBC2 GBSA model), vacuum\n",
    "- [systems](http://getyank.org/latest/yamlpages/systems.html): Specifies what systems (`molecules` plus `solvents`) are to be prepared, with user-defined names\n",
    "- Here, provides names of AMBER parameter files to use in setting up system (solvent, protein (not present here), small molecules)\n",
    "- Uses GAFF small molecule force field"
   ]
  },
  {
   "cell_type": "markdown",
   "metadata": {
    "slideshow": {
     "slide_type": "subslide"
    }
   },
   "source": [
    "###  Protocols: $\\lambda$ schedule for potential protocols\n",
    "\n",
    "<img src=\"images/yaml3.png\" alt=\"YAML\" style=\"width: 1400px;\" align=\"right\"/>"
   ]
  },
  {
   "cell_type": "markdown",
   "metadata": {
    "slideshow": {
     "slide_type": "notes"
    }
   },
   "source": [
    "- [protocols](http://getyank.org/latest/yamlpages/protocols.html): Defines what alchemical path to follow\n",
    "- Several protocols can be specified with different names\n",
    "- Here we follow typical protocols from [alchemistry.org](http://alchemistry.org) -- first turn off charges, then steric interactions\n",
    "- Depending on whether solvent is present or not we can use different $\\lambda$ spacing and number of $\\lambda$ values\n",
    "- In some cases an `auto` path determination may be useful (and is available)"
   ]
  },
  {
   "cell_type": "markdown",
   "metadata": {},
   "source": [
    "### Final phase: What experiments are you running?\n",
    "\n",
    "<img src=\"images/yaml4.png\" alt=\"YAML\" style=\"width: 1400px;\" align=\"right\"/>\n",
    "\n",
    "Here, a command-line option switches between implicit and explicit solvent protocols, on the `hydration` system, which uses TIP3P or GBSA implicit solvent depending on the command-line option.\n",
    "\n",
    "What you ran was in GBSA implicit solvent."
   ]
  },
  {
   "cell_type": "markdown",
   "metadata": {
    "slideshow": {
     "slide_type": "notes"
    }
   },
   "source": [
    "- [experiments](http://getyank.org/latest/yamlpages/experiments.html) details what you actually run\n",
    "- you can configure multiple experiments at once\n",
    "- combinatorial experiments are also possible"
   ]
  },
  {
   "cell_type": "markdown",
   "metadata": {
    "slideshow": {
     "slide_type": "slide"
    }
   },
   "source": [
    "# Analyzing a hydration free energy calculation\n",
    "\n",
    "Basic analysis is done by `yank analyze -s data/experiments` or similar, where `data` is your output directory and your experiments are configured under `experiments`. Here:\n",
    "\n",
    "<img src=\"images/results.png\" alt=\"results\" style=\"width: 1400px;\" align=\"left\"/>\n",
    "\n",
    "This is an implicit solvent hydration calculation of phenol. Key value: $-5.971\\pm0.005$ kcal/mol, estimated via [MBAR](http://www.alchemistry.org/wiki/Multistate_Bennett_Acceptance_Ratio) ([`pymbar`](http://pymbar.readthedocs.io) Python package)\n",
    "\n",
    "Enthalpy very hard to estimate accurately without very long simulations."
   ]
  },
  {
   "cell_type": "markdown",
   "metadata": {
    "slideshow": {
     "slide_type": "subslide"
    }
   },
   "source": [
    "## You should be able to try analyzing yours now\n",
    "\n",
    "`yank analyze -s data/experiments`\n",
    "\n",
    "If it's still running, let's use sample data in this repository."
   ]
  },
  {
   "cell_type": "markdown",
   "metadata": {
    "slideshow": {
     "slide_type": "slide"
    }
   },
   "source": [
    "# Analyzing whether your hydration free energy calculation worked/behaved itself\n",
    "\n",
    "- Error analysis above: Works well when enough or nearly enough data, but unreliable as data/overlap becomes problematic\n",
    "- Mixing diagrams, other analysis much more helpful\n",
    "- **Fill in details here**"
   ]
  }
 ],
 "metadata": {
  "celltoolbar": "Slideshow",
  "kernelspec": {
   "display_name": "Python [default]",
   "language": "python",
   "name": "python3"
  },
  "language_info": {
   "codemirror_mode": {
    "name": "ipython",
    "version": 3
   },
   "file_extension": ".py",
   "mimetype": "text/x-python",
   "name": "python",
   "nbconvert_exporter": "python",
   "pygments_lexer": "ipython3",
   "version": "3.6.3"
  },
  "livereveal": {
   "height": 900,
   "start_slideshow_at": "selected",
   "width": 1440
  },
  "toc": {
   "nav_menu": {},
   "number_sections": true,
   "sideBar": true,
   "skip_h1_title": false,
   "toc_cell": false,
   "toc_position": {},
   "toc_section_display": "block",
   "toc_window_display": false
  }
 },
 "nbformat": 4,
 "nbformat_minor": 2
}
